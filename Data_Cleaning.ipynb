{
 "cells": [
  {
   "cell_type": "code",
   "execution_count": 1,
   "id": "9c44c61d",
   "metadata": {
    "colab": {
     "base_uri": "https://localhost:8080/",
     "height": 380
    },
    "executionInfo": {
     "elapsed": 29,
     "status": "error",
     "timestamp": 1647585563798,
     "user": {
      "displayName": "Chan See Yin",
      "photoUrl": "https://lh3.googleusercontent.com/a/default-user=s64",
      "userId": "15318449340855885388"
     },
     "user_tz": -480
    },
    "id": "9c44c61d",
    "outputId": "f5bf3364-8020-4d5e-97f8-54c52735c701"
   },
   "outputs": [],
   "source": [
    "import pandas as pd\n",
    "import numpy as np\n",
    "\n",
    "cleveland_data = pd.read_csv(\"processed.cleveland.data\", header=None)\n",
    "hungarian_data = pd.read_csv(\"processed.hungarian.data\", header=None)\n",
    "switzerland_data = pd.read_csv(\"processed.switzerland.data\", header=None)\n",
    "va_data = pd.read_csv(\"processed.va.data\", header=None)"
   ]
  },
  {
   "cell_type": "code",
   "execution_count": 2,
   "id": "16627f98",
   "metadata": {
    "executionInfo": {
     "elapsed": 15,
     "status": "aborted",
     "timestamp": 1647585563788,
     "user": {
      "displayName": "Chan See Yin",
      "photoUrl": "https://lh3.googleusercontent.com/a/default-user=s64",
      "userId": "15318449340855885388"
     },
     "user_tz": -480
    },
    "id": "16627f98"
   },
   "outputs": [
    {
     "data": {
      "text/html": [
       "<div>\n",
       "<style scoped>\n",
       "    .dataframe tbody tr th:only-of-type {\n",
       "        vertical-align: middle;\n",
       "    }\n",
       "\n",
       "    .dataframe tbody tr th {\n",
       "        vertical-align: top;\n",
       "    }\n",
       "\n",
       "    .dataframe thead th {\n",
       "        text-align: right;\n",
       "    }\n",
       "</style>\n",
       "<table border=\"1\" class=\"dataframe\">\n",
       "  <thead>\n",
       "    <tr style=\"text-align: right;\">\n",
       "      <th></th>\n",
       "      <th>0</th>\n",
       "      <th>1</th>\n",
       "      <th>2</th>\n",
       "      <th>3</th>\n",
       "      <th>4</th>\n",
       "      <th>5</th>\n",
       "      <th>6</th>\n",
       "      <th>7</th>\n",
       "      <th>8</th>\n",
       "      <th>9</th>\n",
       "      <th>10</th>\n",
       "      <th>11</th>\n",
       "      <th>12</th>\n",
       "      <th>13</th>\n",
       "    </tr>\n",
       "  </thead>\n",
       "  <tbody>\n",
       "    <tr>\n",
       "      <th>0</th>\n",
       "      <td>63.0</td>\n",
       "      <td>1.0</td>\n",
       "      <td>1.0</td>\n",
       "      <td>145.0</td>\n",
       "      <td>233.0</td>\n",
       "      <td>1.0</td>\n",
       "      <td>2.0</td>\n",
       "      <td>150.0</td>\n",
       "      <td>0.0</td>\n",
       "      <td>2.3</td>\n",
       "      <td>3.0</td>\n",
       "      <td>0.0</td>\n",
       "      <td>6.0</td>\n",
       "      <td>0</td>\n",
       "    </tr>\n",
       "    <tr>\n",
       "      <th>1</th>\n",
       "      <td>67.0</td>\n",
       "      <td>1.0</td>\n",
       "      <td>4.0</td>\n",
       "      <td>160.0</td>\n",
       "      <td>286.0</td>\n",
       "      <td>0.0</td>\n",
       "      <td>2.0</td>\n",
       "      <td>108.0</td>\n",
       "      <td>1.0</td>\n",
       "      <td>1.5</td>\n",
       "      <td>2.0</td>\n",
       "      <td>3.0</td>\n",
       "      <td>3.0</td>\n",
       "      <td>2</td>\n",
       "    </tr>\n",
       "    <tr>\n",
       "      <th>2</th>\n",
       "      <td>67.0</td>\n",
       "      <td>1.0</td>\n",
       "      <td>4.0</td>\n",
       "      <td>120.0</td>\n",
       "      <td>229.0</td>\n",
       "      <td>0.0</td>\n",
       "      <td>2.0</td>\n",
       "      <td>129.0</td>\n",
       "      <td>1.0</td>\n",
       "      <td>2.6</td>\n",
       "      <td>2.0</td>\n",
       "      <td>2.0</td>\n",
       "      <td>7.0</td>\n",
       "      <td>1</td>\n",
       "    </tr>\n",
       "    <tr>\n",
       "      <th>3</th>\n",
       "      <td>37.0</td>\n",
       "      <td>1.0</td>\n",
       "      <td>3.0</td>\n",
       "      <td>130.0</td>\n",
       "      <td>250.0</td>\n",
       "      <td>0.0</td>\n",
       "      <td>0.0</td>\n",
       "      <td>187.0</td>\n",
       "      <td>0.0</td>\n",
       "      <td>3.5</td>\n",
       "      <td>3.0</td>\n",
       "      <td>0.0</td>\n",
       "      <td>3.0</td>\n",
       "      <td>0</td>\n",
       "    </tr>\n",
       "    <tr>\n",
       "      <th>4</th>\n",
       "      <td>41.0</td>\n",
       "      <td>0.0</td>\n",
       "      <td>2.0</td>\n",
       "      <td>130.0</td>\n",
       "      <td>204.0</td>\n",
       "      <td>0.0</td>\n",
       "      <td>2.0</td>\n",
       "      <td>172.0</td>\n",
       "      <td>0.0</td>\n",
       "      <td>1.4</td>\n",
       "      <td>1.0</td>\n",
       "      <td>0.0</td>\n",
       "      <td>3.0</td>\n",
       "      <td>0</td>\n",
       "    </tr>\n",
       "  </tbody>\n",
       "</table>\n",
       "</div>"
      ],
      "text/plain": [
       "     0    1    2      3      4    5    6      7    8    9    10   11   12  13\n",
       "0  63.0  1.0  1.0  145.0  233.0  1.0  2.0  150.0  0.0  2.3  3.0  0.0  6.0   0\n",
       "1  67.0  1.0  4.0  160.0  286.0  0.0  2.0  108.0  1.0  1.5  2.0  3.0  3.0   2\n",
       "2  67.0  1.0  4.0  120.0  229.0  0.0  2.0  129.0  1.0  2.6  2.0  2.0  7.0   1\n",
       "3  37.0  1.0  3.0  130.0  250.0  0.0  0.0  187.0  0.0  3.5  3.0  0.0  3.0   0\n",
       "4  41.0  0.0  2.0  130.0  204.0  0.0  2.0  172.0  0.0  1.4  1.0  0.0  3.0   0"
      ]
     },
     "execution_count": 2,
     "metadata": {},
     "output_type": "execute_result"
    }
   ],
   "source": [
    "cleveland_data.head()"
   ]
  },
  {
   "cell_type": "code",
   "execution_count": 3,
   "id": "8948fcb4",
   "metadata": {
    "executionInfo": {
     "elapsed": 15,
     "status": "aborted",
     "timestamp": 1647585563789,
     "user": {
      "displayName": "Chan See Yin",
      "photoUrl": "https://lh3.googleusercontent.com/a/default-user=s64",
      "userId": "15318449340855885388"
     },
     "user_tz": -480
    },
    "id": "8948fcb4"
   },
   "outputs": [
    {
     "data": {
      "text/html": [
       "<div>\n",
       "<style scoped>\n",
       "    .dataframe tbody tr th:only-of-type {\n",
       "        vertical-align: middle;\n",
       "    }\n",
       "\n",
       "    .dataframe tbody tr th {\n",
       "        vertical-align: top;\n",
       "    }\n",
       "\n",
       "    .dataframe thead th {\n",
       "        text-align: right;\n",
       "    }\n",
       "</style>\n",
       "<table border=\"1\" class=\"dataframe\">\n",
       "  <thead>\n",
       "    <tr style=\"text-align: right;\">\n",
       "      <th></th>\n",
       "      <th>0</th>\n",
       "      <th>1</th>\n",
       "      <th>2</th>\n",
       "      <th>3</th>\n",
       "      <th>4</th>\n",
       "      <th>5</th>\n",
       "      <th>6</th>\n",
       "      <th>7</th>\n",
       "      <th>8</th>\n",
       "      <th>9</th>\n",
       "      <th>10</th>\n",
       "      <th>11</th>\n",
       "      <th>12</th>\n",
       "      <th>13</th>\n",
       "    </tr>\n",
       "  </thead>\n",
       "  <tbody>\n",
       "    <tr>\n",
       "      <th>0</th>\n",
       "      <td>28</td>\n",
       "      <td>1</td>\n",
       "      <td>2</td>\n",
       "      <td>130</td>\n",
       "      <td>132</td>\n",
       "      <td>0</td>\n",
       "      <td>2</td>\n",
       "      <td>185</td>\n",
       "      <td>0</td>\n",
       "      <td>0.0</td>\n",
       "      <td>?</td>\n",
       "      <td>?</td>\n",
       "      <td>?</td>\n",
       "      <td>0</td>\n",
       "    </tr>\n",
       "    <tr>\n",
       "      <th>1</th>\n",
       "      <td>29</td>\n",
       "      <td>1</td>\n",
       "      <td>2</td>\n",
       "      <td>120</td>\n",
       "      <td>243</td>\n",
       "      <td>0</td>\n",
       "      <td>0</td>\n",
       "      <td>160</td>\n",
       "      <td>0</td>\n",
       "      <td>0.0</td>\n",
       "      <td>?</td>\n",
       "      <td>?</td>\n",
       "      <td>?</td>\n",
       "      <td>0</td>\n",
       "    </tr>\n",
       "    <tr>\n",
       "      <th>2</th>\n",
       "      <td>29</td>\n",
       "      <td>1</td>\n",
       "      <td>2</td>\n",
       "      <td>140</td>\n",
       "      <td>?</td>\n",
       "      <td>0</td>\n",
       "      <td>0</td>\n",
       "      <td>170</td>\n",
       "      <td>0</td>\n",
       "      <td>0.0</td>\n",
       "      <td>?</td>\n",
       "      <td>?</td>\n",
       "      <td>?</td>\n",
       "      <td>0</td>\n",
       "    </tr>\n",
       "    <tr>\n",
       "      <th>3</th>\n",
       "      <td>30</td>\n",
       "      <td>0</td>\n",
       "      <td>1</td>\n",
       "      <td>170</td>\n",
       "      <td>237</td>\n",
       "      <td>0</td>\n",
       "      <td>1</td>\n",
       "      <td>170</td>\n",
       "      <td>0</td>\n",
       "      <td>0.0</td>\n",
       "      <td>?</td>\n",
       "      <td>?</td>\n",
       "      <td>6</td>\n",
       "      <td>0</td>\n",
       "    </tr>\n",
       "    <tr>\n",
       "      <th>4</th>\n",
       "      <td>31</td>\n",
       "      <td>0</td>\n",
       "      <td>2</td>\n",
       "      <td>100</td>\n",
       "      <td>219</td>\n",
       "      <td>0</td>\n",
       "      <td>1</td>\n",
       "      <td>150</td>\n",
       "      <td>0</td>\n",
       "      <td>0.0</td>\n",
       "      <td>?</td>\n",
       "      <td>?</td>\n",
       "      <td>?</td>\n",
       "      <td>0</td>\n",
       "    </tr>\n",
       "  </tbody>\n",
       "</table>\n",
       "</div>"
      ],
      "text/plain": [
       "   0   1   2    3    4  5  6    7  8    9  10 11 12  13\n",
       "0  28   1   2  130  132  0  2  185  0  0.0  ?  ?  ?   0\n",
       "1  29   1   2  120  243  0  0  160  0  0.0  ?  ?  ?   0\n",
       "2  29   1   2  140    ?  0  0  170  0  0.0  ?  ?  ?   0\n",
       "3  30   0   1  170  237  0  1  170  0  0.0  ?  ?  6   0\n",
       "4  31   0   2  100  219  0  1  150  0  0.0  ?  ?  ?   0"
      ]
     },
     "execution_count": 3,
     "metadata": {},
     "output_type": "execute_result"
    }
   ],
   "source": [
    "hungarian_data.head()"
   ]
  },
  {
   "cell_type": "code",
   "execution_count": 4,
   "id": "3b6d7fd1",
   "metadata": {
    "executionInfo": {
     "elapsed": 16,
     "status": "aborted",
     "timestamp": 1647585563790,
     "user": {
      "displayName": "Chan See Yin",
      "photoUrl": "https://lh3.googleusercontent.com/a/default-user=s64",
      "userId": "15318449340855885388"
     },
     "user_tz": -480
    },
    "id": "3b6d7fd1"
   },
   "outputs": [
    {
     "data": {
      "text/html": [
       "<div>\n",
       "<style scoped>\n",
       "    .dataframe tbody tr th:only-of-type {\n",
       "        vertical-align: middle;\n",
       "    }\n",
       "\n",
       "    .dataframe tbody tr th {\n",
       "        vertical-align: top;\n",
       "    }\n",
       "\n",
       "    .dataframe thead th {\n",
       "        text-align: right;\n",
       "    }\n",
       "</style>\n",
       "<table border=\"1\" class=\"dataframe\">\n",
       "  <thead>\n",
       "    <tr style=\"text-align: right;\">\n",
       "      <th></th>\n",
       "      <th>0</th>\n",
       "      <th>1</th>\n",
       "      <th>2</th>\n",
       "      <th>3</th>\n",
       "      <th>4</th>\n",
       "      <th>5</th>\n",
       "      <th>6</th>\n",
       "      <th>7</th>\n",
       "      <th>8</th>\n",
       "      <th>9</th>\n",
       "      <th>10</th>\n",
       "      <th>11</th>\n",
       "      <th>12</th>\n",
       "      <th>13</th>\n",
       "    </tr>\n",
       "  </thead>\n",
       "  <tbody>\n",
       "    <tr>\n",
       "      <th>0</th>\n",
       "      <td>32</td>\n",
       "      <td>1</td>\n",
       "      <td>1</td>\n",
       "      <td>95</td>\n",
       "      <td>0</td>\n",
       "      <td>?</td>\n",
       "      <td>0</td>\n",
       "      <td>127</td>\n",
       "      <td>0</td>\n",
       "      <td>.7</td>\n",
       "      <td>1</td>\n",
       "      <td>?</td>\n",
       "      <td>?</td>\n",
       "      <td>1</td>\n",
       "    </tr>\n",
       "    <tr>\n",
       "      <th>1</th>\n",
       "      <td>34</td>\n",
       "      <td>1</td>\n",
       "      <td>4</td>\n",
       "      <td>115</td>\n",
       "      <td>0</td>\n",
       "      <td>?</td>\n",
       "      <td>?</td>\n",
       "      <td>154</td>\n",
       "      <td>0</td>\n",
       "      <td>.2</td>\n",
       "      <td>1</td>\n",
       "      <td>?</td>\n",
       "      <td>?</td>\n",
       "      <td>1</td>\n",
       "    </tr>\n",
       "    <tr>\n",
       "      <th>2</th>\n",
       "      <td>35</td>\n",
       "      <td>1</td>\n",
       "      <td>4</td>\n",
       "      <td>?</td>\n",
       "      <td>0</td>\n",
       "      <td>?</td>\n",
       "      <td>0</td>\n",
       "      <td>130</td>\n",
       "      <td>1</td>\n",
       "      <td>?</td>\n",
       "      <td>?</td>\n",
       "      <td>?</td>\n",
       "      <td>7</td>\n",
       "      <td>3</td>\n",
       "    </tr>\n",
       "    <tr>\n",
       "      <th>3</th>\n",
       "      <td>36</td>\n",
       "      <td>1</td>\n",
       "      <td>4</td>\n",
       "      <td>110</td>\n",
       "      <td>0</td>\n",
       "      <td>?</td>\n",
       "      <td>0</td>\n",
       "      <td>125</td>\n",
       "      <td>1</td>\n",
       "      <td>1</td>\n",
       "      <td>2</td>\n",
       "      <td>?</td>\n",
       "      <td>6</td>\n",
       "      <td>1</td>\n",
       "    </tr>\n",
       "    <tr>\n",
       "      <th>4</th>\n",
       "      <td>38</td>\n",
       "      <td>0</td>\n",
       "      <td>4</td>\n",
       "      <td>105</td>\n",
       "      <td>0</td>\n",
       "      <td>?</td>\n",
       "      <td>0</td>\n",
       "      <td>166</td>\n",
       "      <td>0</td>\n",
       "      <td>2.8</td>\n",
       "      <td>1</td>\n",
       "      <td>?</td>\n",
       "      <td>?</td>\n",
       "      <td>2</td>\n",
       "    </tr>\n",
       "  </tbody>\n",
       "</table>\n",
       "</div>"
      ],
      "text/plain": [
       "   0   1   2    3   4  5  6    7  8    9  10 11 12  13\n",
       "0  32   1   1   95   0  ?  0  127  0   .7  1  ?  ?   1\n",
       "1  34   1   4  115   0  ?  ?  154  0   .2  1  ?  ?   1\n",
       "2  35   1   4    ?   0  ?  0  130  1    ?  ?  ?  7   3\n",
       "3  36   1   4  110   0  ?  0  125  1    1  2  ?  6   1\n",
       "4  38   0   4  105   0  ?  0  166  0  2.8  1  ?  ?   2"
      ]
     },
     "execution_count": 4,
     "metadata": {},
     "output_type": "execute_result"
    }
   ],
   "source": [
    "switzerland_data.head()"
   ]
  },
  {
   "cell_type": "code",
   "execution_count": 5,
   "id": "7efaec2e",
   "metadata": {
    "executionInfo": {
     "elapsed": 17,
     "status": "aborted",
     "timestamp": 1647585563791,
     "user": {
      "displayName": "Chan See Yin",
      "photoUrl": "https://lh3.googleusercontent.com/a/default-user=s64",
      "userId": "15318449340855885388"
     },
     "user_tz": -480
    },
    "id": "7efaec2e"
   },
   "outputs": [
    {
     "data": {
      "text/html": [
       "<div>\n",
       "<style scoped>\n",
       "    .dataframe tbody tr th:only-of-type {\n",
       "        vertical-align: middle;\n",
       "    }\n",
       "\n",
       "    .dataframe tbody tr th {\n",
       "        vertical-align: top;\n",
       "    }\n",
       "\n",
       "    .dataframe thead th {\n",
       "        text-align: right;\n",
       "    }\n",
       "</style>\n",
       "<table border=\"1\" class=\"dataframe\">\n",
       "  <thead>\n",
       "    <tr style=\"text-align: right;\">\n",
       "      <th></th>\n",
       "      <th>0</th>\n",
       "      <th>1</th>\n",
       "      <th>2</th>\n",
       "      <th>3</th>\n",
       "      <th>4</th>\n",
       "      <th>5</th>\n",
       "      <th>6</th>\n",
       "      <th>7</th>\n",
       "      <th>8</th>\n",
       "      <th>9</th>\n",
       "      <th>10</th>\n",
       "      <th>11</th>\n",
       "      <th>12</th>\n",
       "      <th>13</th>\n",
       "    </tr>\n",
       "  </thead>\n",
       "  <tbody>\n",
       "    <tr>\n",
       "      <th>0</th>\n",
       "      <td>63</td>\n",
       "      <td>1</td>\n",
       "      <td>4</td>\n",
       "      <td>140</td>\n",
       "      <td>260</td>\n",
       "      <td>0</td>\n",
       "      <td>1</td>\n",
       "      <td>112</td>\n",
       "      <td>1</td>\n",
       "      <td>3</td>\n",
       "      <td>2</td>\n",
       "      <td>?</td>\n",
       "      <td>?</td>\n",
       "      <td>2</td>\n",
       "    </tr>\n",
       "    <tr>\n",
       "      <th>1</th>\n",
       "      <td>44</td>\n",
       "      <td>1</td>\n",
       "      <td>4</td>\n",
       "      <td>130</td>\n",
       "      <td>209</td>\n",
       "      <td>0</td>\n",
       "      <td>1</td>\n",
       "      <td>127</td>\n",
       "      <td>0</td>\n",
       "      <td>0</td>\n",
       "      <td>?</td>\n",
       "      <td>?</td>\n",
       "      <td>?</td>\n",
       "      <td>0</td>\n",
       "    </tr>\n",
       "    <tr>\n",
       "      <th>2</th>\n",
       "      <td>60</td>\n",
       "      <td>1</td>\n",
       "      <td>4</td>\n",
       "      <td>132</td>\n",
       "      <td>218</td>\n",
       "      <td>0</td>\n",
       "      <td>1</td>\n",
       "      <td>140</td>\n",
       "      <td>1</td>\n",
       "      <td>1.5</td>\n",
       "      <td>3</td>\n",
       "      <td>?</td>\n",
       "      <td>?</td>\n",
       "      <td>2</td>\n",
       "    </tr>\n",
       "    <tr>\n",
       "      <th>3</th>\n",
       "      <td>55</td>\n",
       "      <td>1</td>\n",
       "      <td>4</td>\n",
       "      <td>142</td>\n",
       "      <td>228</td>\n",
       "      <td>0</td>\n",
       "      <td>1</td>\n",
       "      <td>149</td>\n",
       "      <td>1</td>\n",
       "      <td>2.5</td>\n",
       "      <td>1</td>\n",
       "      <td>?</td>\n",
       "      <td>?</td>\n",
       "      <td>1</td>\n",
       "    </tr>\n",
       "    <tr>\n",
       "      <th>4</th>\n",
       "      <td>66</td>\n",
       "      <td>1</td>\n",
       "      <td>3</td>\n",
       "      <td>110</td>\n",
       "      <td>213</td>\n",
       "      <td>1</td>\n",
       "      <td>2</td>\n",
       "      <td>99</td>\n",
       "      <td>1</td>\n",
       "      <td>1.3</td>\n",
       "      <td>2</td>\n",
       "      <td>?</td>\n",
       "      <td>?</td>\n",
       "      <td>0</td>\n",
       "    </tr>\n",
       "  </tbody>\n",
       "</table>\n",
       "</div>"
      ],
      "text/plain": [
       "   0   1   2    3    4  5   6    7  8    9  10 11 12  13\n",
       "0  63   1   4  140  260  0   1  112  1    3  2  ?  ?   2\n",
       "1  44   1   4  130  209  0   1  127  0    0  ?  ?  ?   0\n",
       "2  60   1   4  132  218  0   1  140  1  1.5  3  ?  ?   2\n",
       "3  55   1   4  142  228  0   1  149  1  2.5  1  ?  ?   1\n",
       "4  66   1   3  110  213  1   2   99  1  1.3  2  ?  ?   0"
      ]
     },
     "execution_count": 5,
     "metadata": {},
     "output_type": "execute_result"
    }
   ],
   "source": [
    "va_data.head()"
   ]
  },
  {
   "cell_type": "markdown",
   "id": "b5e2f5db",
   "metadata": {
    "id": "b5e2f5db"
   },
   "source": [
    "From the Heart Diseases dataset, we have data from 4 different areas, Cleveland, Hungary, Switzerland and Virginia. We want to combine these datasets together. We will first change the column names."
   ]
  },
  {
   "cell_type": "markdown",
   "id": "8504eded",
   "metadata": {
    "id": "8504eded"
   },
   "source": [
    "According to the attribute information, the following 14 attributes were used.\n",
    "\n",
    "1.   age\n",
    "2.   sex   \n",
    "3.   cp   \n",
    "4.   trestbps\n",
    "5.   chol   \n",
    "6.   fbs     \n",
    "7.   restecg \n",
    "8.   thalach\n",
    "9.   exang   \n",
    "10.  oldpeak  \n",
    "11.  slope   \n",
    "12.  ca       \n",
    "13.  thal     \n",
    "14.  num (the predicted attribute)\n"
   ]
  },
  {
   "cell_type": "markdown",
   "id": "d30cce77",
   "metadata": {
    "id": "d30cce77"
   },
   "source": [
    "Here is the description and type of each of the attributes:\n",
    "      \n",
    "1.   age: age in years (**Numerical**)\n",
    "\n",
    "2.   sex: sex (1 = male; 0 = female) (**Categorical**)\n",
    "\n",
    "3.   cp: chest pain type (**Categorical**)\n",
    "       - Value 1: typical angina\n",
    "       - Value 2: atypical angina\n",
    "       - Value 3: non-anginal pain\n",
    "       - Value 4: asymptomatic\n",
    "    \n",
    "4.   trestbps: resting blood pressure (in mm Hg on admission to the hospital) (**Numerical**)\n",
    "\n",
    "5.   chol: serum cholestoral in mg/dl (**Numerical**)\n",
    "\n",
    "6.   fbs: (fasting blood sugar > 120 mg/dl)  (1 = true; 0 = false) (**Categorical**)\n",
    "\n",
    "7.   restecg: resting electrocardiographic results (**Categorical**)\n",
    "       - Value 0: normal\n",
    "       - Value 1: having ST-T wave abnormality (T wave inversions and/or ST elevation or depression of > 0.05 mV)\n",
    "       - Value 2: showing probable or definite left ventricular hypertrophy by Estes' criteria\n",
    "                    \n",
    "8.   thalach: maximum cleveland rate achieved (**Numerical**)\n",
    "\n",
    "9.   exang: exercise induced angina (1 = yes; 0 = no) (**Categorical**)\n",
    "\n",
    "10.  oldpeak = ST depression induced by exercise relative to rest (**Numerical**)\n",
    "\n",
    "11.  slope: the slope of the peak exercise ST segment (**Categorical**)\n",
    "       - Value 1: upsloping\n",
    "       - Value 2: flat\n",
    "       - Value 3: downsloping\n",
    "        \n",
    "12.  ca: number of major vessels (0-3) colored by flourosopy (**Numerical**)\n",
    "\n",
    "13.  thal: 3 = normal; 6 = fixed defect; 7 = reversable defect (**Categorical**)\n",
    "\n",
    "14.  num: diagnosis of cleveland disease (angiographic disease status) (**Categorical**)\n",
    "       - Value 0: < 50% diameter narrowing\n",
    "       - Value 1: > 50% diameter narrowing\n",
    "        "
   ]
  },
  {
   "cell_type": "code",
   "execution_count": 6,
   "id": "d628399f",
   "metadata": {
    "executionInfo": {
     "elapsed": 17,
     "status": "aborted",
     "timestamp": 1647585563791,
     "user": {
      "displayName": "Chan See Yin",
      "photoUrl": "https://lh3.googleusercontent.com/a/default-user=s64",
      "userId": "15318449340855885388"
     },
     "user_tz": -480
    },
    "id": "d628399f"
   },
   "outputs": [],
   "source": [
    "# Creating a copy of the datasets\n",
    "cleveland_clean = cleveland_data.copy()\n",
    "hungarian_clean = hungarian_data.copy()\n",
    "switzerland_clean = switzerland_data.copy()\n",
    "va_clean = va_data.copy()"
   ]
  },
  {
   "cell_type": "code",
   "execution_count": 7,
   "id": "63c0d1a8",
   "metadata": {
    "executionInfo": {
     "elapsed": 18,
     "status": "aborted",
     "timestamp": 1647585563792,
     "user": {
      "displayName": "Chan See Yin",
      "photoUrl": "https://lh3.googleusercontent.com/a/default-user=s64",
      "userId": "15318449340855885388"
     },
     "user_tz": -480
    },
    "id": "63c0d1a8"
   },
   "outputs": [],
   "source": [
    "# Adding column titles to all the datasets\n",
    "cleveland_clean.columns = ['age', 'sex', 'cp', 'trestbps', 'chol', 'fbs', 'restecg', 'thalch', 'exang', 'oldpeak', 'slope', 'ca', 'thal', 'num']\n",
    "hungarian_clean.columns = ['age', 'sex', 'cp', 'trestbps', 'chol', 'fbs', 'restecg', 'thalch', 'exang', 'oldpeak', 'slope', 'ca', 'thal', 'num']\n",
    "switzerland_clean.columns = ['age', 'sex', 'cp', 'trestbps', 'chol', 'fbs', 'restecg', 'thalch', 'exang', 'oldpeak', 'slope', 'ca', 'thal', 'num']\n",
    "va_clean.columns = ['age', 'sex', 'cp', 'trestbps', 'chol', 'fbs', 'restecg', 'thalch', 'exang', 'oldpeak', 'slope', 'ca', 'thal', 'num']"
   ]
  },
  {
   "cell_type": "code",
   "execution_count": 8,
   "id": "5a65b7ee",
   "metadata": {
    "executionInfo": {
     "elapsed": 18,
     "status": "aborted",
     "timestamp": 1647585563792,
     "user": {
      "displayName": "Chan See Yin",
      "photoUrl": "https://lh3.googleusercontent.com/a/default-user=s64",
      "userId": "15318449340855885388"
     },
     "user_tz": -480
    },
    "id": "5a65b7ee"
   },
   "outputs": [],
   "source": [
    "# Convert all Variable Names to UPPERCASE\n",
    "cleveland_clean.columns = cleveland_clean.columns.str.upper()\n",
    "hungarian_clean.columns = hungarian_clean.columns.str.upper()\n",
    "switzerland_clean.columns = switzerland_clean.columns.str.upper()\n",
    "va_clean.columns = va_clean.columns.str.upper()"
   ]
  },
  {
   "cell_type": "markdown",
   "id": "8d5be67c",
   "metadata": {
    "id": "8d5be67c"
   },
   "source": [
    "We will add a new column with the location. The following are the short forms used:\n",
    "   * CL - Cleveland \n",
    "   * HU - Hungary\n",
    "   * SW - Switzerland\n",
    "   * VA - Virginia"
   ]
  },
  {
   "cell_type": "code",
   "execution_count": 9,
   "id": "c78e1745",
   "metadata": {
    "executionInfo": {
     "elapsed": 19,
     "status": "aborted",
     "timestamp": 1647585563793,
     "user": {
      "displayName": "Chan See Yin",
      "photoUrl": "https://lh3.googleusercontent.com/a/default-user=s64",
      "userId": "15318449340855885388"
     },
     "user_tz": -480
    },
    "id": "c78e1745"
   },
   "outputs": [],
   "source": [
    "cleveland_clean['LOC'] = 'CL'\n",
    "hungarian_clean['LOC'] = 'HU'\n",
    "switzerland_clean['LOC'] = 'SW'\n",
    "va_clean['LOC'] = 'VA'"
   ]
  },
  {
   "cell_type": "code",
   "execution_count": 10,
   "id": "c20565ef",
   "metadata": {
    "executionInfo": {
     "elapsed": 18,
     "status": "aborted",
     "timestamp": 1647585563793,
     "user": {
      "displayName": "Chan See Yin",
      "photoUrl": "https://lh3.googleusercontent.com/a/default-user=s64",
      "userId": "15318449340855885388"
     },
     "user_tz": -480
    },
    "id": "c20565ef"
   },
   "outputs": [
    {
     "name": "stdout",
     "output_type": "stream",
     "text": [
      "<class 'pandas.core.frame.DataFrame'>\n",
      "RangeIndex: 303 entries, 0 to 302\n",
      "Data columns (total 15 columns):\n",
      " #   Column    Non-Null Count  Dtype  \n",
      "---  ------    --------------  -----  \n",
      " 0   AGE       303 non-null    float64\n",
      " 1   SEX       303 non-null    float64\n",
      " 2   CP        303 non-null    float64\n",
      " 3   TRESTBPS  303 non-null    float64\n",
      " 4   CHOL      303 non-null    float64\n",
      " 5   FBS       303 non-null    float64\n",
      " 6   RESTECG   303 non-null    float64\n",
      " 7   THALCH    303 non-null    float64\n",
      " 8   EXANG     303 non-null    float64\n",
      " 9   OLDPEAK   303 non-null    float64\n",
      " 10  SLOPE     303 non-null    float64\n",
      " 11  CA        303 non-null    object \n",
      " 12  THAL      303 non-null    object \n",
      " 13  NUM       303 non-null    int64  \n",
      " 14  LOC       303 non-null    object \n",
      "dtypes: float64(11), int64(1), object(3)\n",
      "memory usage: 35.6+ KB\n",
      "<class 'pandas.core.frame.DataFrame'>\n",
      "RangeIndex: 294 entries, 0 to 293\n",
      "Data columns (total 15 columns):\n",
      " #   Column    Non-Null Count  Dtype  \n",
      "---  ------    --------------  -----  \n",
      " 0   AGE       294 non-null    int64  \n",
      " 1   SEX       294 non-null    int64  \n",
      " 2   CP        294 non-null    int64  \n",
      " 3   TRESTBPS  294 non-null    object \n",
      " 4   CHOL      294 non-null    object \n",
      " 5   FBS       294 non-null    object \n",
      " 6   RESTECG   294 non-null    object \n",
      " 7   THALCH    294 non-null    object \n",
      " 8   EXANG     294 non-null    object \n",
      " 9   OLDPEAK   294 non-null    float64\n",
      " 10  SLOPE     294 non-null    object \n",
      " 11  CA        294 non-null    object \n",
      " 12  THAL      294 non-null    object \n",
      " 13  NUM       294 non-null    int64  \n",
      " 14  LOC       294 non-null    object \n",
      "dtypes: float64(1), int64(4), object(10)\n",
      "memory usage: 34.6+ KB\n",
      "<class 'pandas.core.frame.DataFrame'>\n",
      "RangeIndex: 123 entries, 0 to 122\n",
      "Data columns (total 15 columns):\n",
      " #   Column    Non-Null Count  Dtype \n",
      "---  ------    --------------  ----- \n",
      " 0   AGE       123 non-null    int64 \n",
      " 1   SEX       123 non-null    int64 \n",
      " 2   CP        123 non-null    int64 \n",
      " 3   TRESTBPS  123 non-null    object\n",
      " 4   CHOL      123 non-null    int64 \n",
      " 5   FBS       123 non-null    object\n",
      " 6   RESTECG   123 non-null    object\n",
      " 7   THALCH    123 non-null    object\n",
      " 8   EXANG     123 non-null    object\n",
      " 9   OLDPEAK   123 non-null    object\n",
      " 10  SLOPE     123 non-null    object\n",
      " 11  CA        123 non-null    object\n",
      " 12  THAL      123 non-null    object\n",
      " 13  NUM       123 non-null    int64 \n",
      " 14  LOC       123 non-null    object\n",
      "dtypes: int64(5), object(10)\n",
      "memory usage: 14.5+ KB\n",
      "<class 'pandas.core.frame.DataFrame'>\n",
      "RangeIndex: 200 entries, 0 to 199\n",
      "Data columns (total 15 columns):\n",
      " #   Column    Non-Null Count  Dtype \n",
      "---  ------    --------------  ----- \n",
      " 0   AGE       200 non-null    int64 \n",
      " 1   SEX       200 non-null    int64 \n",
      " 2   CP        200 non-null    int64 \n",
      " 3   TRESTBPS  200 non-null    object\n",
      " 4   CHOL      200 non-null    object\n",
      " 5   FBS       200 non-null    object\n",
      " 6   RESTECG   200 non-null    int64 \n",
      " 7   THALCH    200 non-null    object\n",
      " 8   EXANG     200 non-null    object\n",
      " 9   OLDPEAK   200 non-null    object\n",
      " 10  SLOPE     200 non-null    object\n",
      " 11  CA        200 non-null    object\n",
      " 12  THAL      200 non-null    object\n",
      " 13  NUM       200 non-null    int64 \n",
      " 14  LOC       200 non-null    object\n",
      "dtypes: int64(5), object(10)\n",
      "memory usage: 23.6+ KB\n"
     ]
    }
   ],
   "source": [
    "# Print the Variable Information to check\n",
    "cleveland_clean.info()\n",
    "hungarian_clean.info()\n",
    "switzerland_clean.info()\n",
    "va_clean.info()"
   ]
  },
  {
   "cell_type": "markdown",
   "id": "e0a81757",
   "metadata": {
    "id": "e0a81757"
   },
   "source": [
    "We notice that there are ? in the dataset. We shall change these to NULL."
   ]
  },
  {
   "cell_type": "code",
   "execution_count": 11,
   "id": "c8d49e03",
   "metadata": {
    "executionInfo": {
     "elapsed": 19,
     "status": "aborted",
     "timestamp": 1647585563794,
     "user": {
      "displayName": "Chan See Yin",
      "photoUrl": "https://lh3.googleusercontent.com/a/default-user=s64",
      "userId": "15318449340855885388"
     },
     "user_tz": -480
    },
    "id": "c8d49e03"
   },
   "outputs": [],
   "source": [
    "# Changing ? in dataframe to NaN\n",
    "cleveland_clean = cleveland_clean.replace('?', np.nan)\n",
    "hungarian_clean = hungarian_clean.replace('?', np.nan)\n",
    "switzerland_clean = switzerland_clean.replace('?', np.nan)\n",
    "va_clean = va_clean.replace('?', np.nan)"
   ]
  },
  {
   "cell_type": "code",
   "execution_count": 12,
   "id": "07cca1b8",
   "metadata": {
    "executionInfo": {
     "elapsed": 19,
     "status": "aborted",
     "timestamp": 1647585563794,
     "user": {
      "displayName": "Chan See Yin",
      "photoUrl": "https://lh3.googleusercontent.com/a/default-user=s64",
      "userId": "15318449340855885388"
     },
     "user_tz": -480
    },
    "id": "07cca1b8"
   },
   "outputs": [
    {
     "data": {
      "text/plain": [
       "AGE         0\n",
       "SEX         0\n",
       "CP          0\n",
       "TRESTBPS    0\n",
       "CHOL        0\n",
       "FBS         0\n",
       "RESTECG     0\n",
       "THALCH      0\n",
       "EXANG       0\n",
       "OLDPEAK     0\n",
       "SLOPE       0\n",
       "CA          4\n",
       "THAL        2\n",
       "NUM         0\n",
       "LOC         0\n",
       "dtype: int64"
      ]
     },
     "execution_count": 12,
     "metadata": {},
     "output_type": "execute_result"
    }
   ],
   "source": [
    "cleveland_clean.isna().sum()"
   ]
  },
  {
   "cell_type": "code",
   "execution_count": 13,
   "id": "e5dec642",
   "metadata": {
    "executionInfo": {
     "elapsed": 20,
     "status": "aborted",
     "timestamp": 1647585563795,
     "user": {
      "displayName": "Chan See Yin",
      "photoUrl": "https://lh3.googleusercontent.com/a/default-user=s64",
      "userId": "15318449340855885388"
     },
     "user_tz": -480
    },
    "id": "e5dec642"
   },
   "outputs": [
    {
     "data": {
      "text/plain": [
       "AGE           0\n",
       "SEX           0\n",
       "CP            0\n",
       "TRESTBPS      1\n",
       "CHOL         23\n",
       "FBS           8\n",
       "RESTECG       1\n",
       "THALCH        1\n",
       "EXANG         1\n",
       "OLDPEAK       0\n",
       "SLOPE       190\n",
       "CA          291\n",
       "THAL        266\n",
       "NUM           0\n",
       "LOC           0\n",
       "dtype: int64"
      ]
     },
     "execution_count": 13,
     "metadata": {},
     "output_type": "execute_result"
    }
   ],
   "source": [
    "hungarian_clean.isna().sum()"
   ]
  },
  {
   "cell_type": "code",
   "execution_count": 14,
   "id": "1c6fb672",
   "metadata": {
    "executionInfo": {
     "elapsed": 20,
     "status": "aborted",
     "timestamp": 1647585563795,
     "user": {
      "displayName": "Chan See Yin",
      "photoUrl": "https://lh3.googleusercontent.com/a/default-user=s64",
      "userId": "15318449340855885388"
     },
     "user_tz": -480
    },
    "id": "1c6fb672"
   },
   "outputs": [
    {
     "data": {
      "text/plain": [
       "AGE           0\n",
       "SEX           0\n",
       "CP            0\n",
       "TRESTBPS      2\n",
       "CHOL          0\n",
       "FBS          75\n",
       "RESTECG       1\n",
       "THALCH        1\n",
       "EXANG         1\n",
       "OLDPEAK       6\n",
       "SLOPE        17\n",
       "CA          118\n",
       "THAL         52\n",
       "NUM           0\n",
       "LOC           0\n",
       "dtype: int64"
      ]
     },
     "execution_count": 14,
     "metadata": {},
     "output_type": "execute_result"
    }
   ],
   "source": [
    "switzerland_clean.isna().sum()"
   ]
  },
  {
   "cell_type": "code",
   "execution_count": 15,
   "id": "711cf320",
   "metadata": {
    "executionInfo": {
     "elapsed": 20,
     "status": "aborted",
     "timestamp": 1647585563795,
     "user": {
      "displayName": "Chan See Yin",
      "photoUrl": "https://lh3.googleusercontent.com/a/default-user=s64",
      "userId": "15318449340855885388"
     },
     "user_tz": -480
    },
    "id": "711cf320"
   },
   "outputs": [
    {
     "data": {
      "text/plain": [
       "AGE           0\n",
       "SEX           0\n",
       "CP            0\n",
       "TRESTBPS     56\n",
       "CHOL          7\n",
       "FBS           7\n",
       "RESTECG       0\n",
       "THALCH       53\n",
       "EXANG        53\n",
       "OLDPEAK      56\n",
       "SLOPE       102\n",
       "CA          198\n",
       "THAL        166\n",
       "NUM           0\n",
       "LOC           0\n",
       "dtype: int64"
      ]
     },
     "execution_count": 15,
     "metadata": {},
     "output_type": "execute_result"
    }
   ],
   "source": [
    "va_clean.isna().sum()"
   ]
  },
  {
   "cell_type": "markdown",
   "id": "85302133",
   "metadata": {
    "id": "85302133"
   },
   "source": [
    "We notice that there are a lot of missing values in the datasets for Hungary, Switzerland and Virginia. If we were to drop the columns or rows, this would result in a lot of missing data and limits our analysis. Therefore, we shall stick with the Cleveland dataset since it only has 6 rows with missing information."
   ]
  },
  {
   "cell_type": "code",
   "execution_count": 16,
   "id": "d536e81d",
   "metadata": {
    "executionInfo": {
     "elapsed": 21,
     "status": "aborted",
     "timestamp": 1647585563796,
     "user": {
      "displayName": "Chan See Yin",
      "photoUrl": "https://lh3.googleusercontent.com/a/default-user=s64",
      "userId": "15318449340855885388"
     },
     "user_tz": -480
    },
    "id": "d536e81d"
   },
   "outputs": [],
   "source": [
    "# Dropping 6 rows with NaN values.\n",
    "cleveland_clean = cleveland_clean.dropna()"
   ]
  },
  {
   "cell_type": "code",
   "execution_count": 17,
   "id": "548784ed",
   "metadata": {
    "executionInfo": {
     "elapsed": 21,
     "status": "aborted",
     "timestamp": 1647585563796,
     "user": {
      "displayName": "Chan See Yin",
      "photoUrl": "https://lh3.googleusercontent.com/a/default-user=s64",
      "userId": "15318449340855885388"
     },
     "user_tz": -480
    },
    "id": "548784ed"
   },
   "outputs": [
    {
     "name": "stdout",
     "output_type": "stream",
     "text": [
      "<class 'pandas.core.frame.DataFrame'>\n",
      "Int64Index: 297 entries, 0 to 301\n",
      "Data columns (total 15 columns):\n",
      " #   Column    Non-Null Count  Dtype  \n",
      "---  ------    --------------  -----  \n",
      " 0   AGE       297 non-null    float64\n",
      " 1   SEX       297 non-null    float64\n",
      " 2   CP        297 non-null    float64\n",
      " 3   TRESTBPS  297 non-null    float64\n",
      " 4   CHOL      297 non-null    float64\n",
      " 5   FBS       297 non-null    float64\n",
      " 6   RESTECG   297 non-null    float64\n",
      " 7   THALCH    297 non-null    float64\n",
      " 8   EXANG     297 non-null    float64\n",
      " 9   OLDPEAK   297 non-null    float64\n",
      " 10  SLOPE     297 non-null    float64\n",
      " 11  CA        297 non-null    object \n",
      " 12  THAL      297 non-null    object \n",
      " 13  NUM       297 non-null    int64  \n",
      " 14  LOC       297 non-null    object \n",
      "dtypes: float64(11), int64(1), object(3)\n",
      "memory usage: 37.1+ KB\n"
     ]
    }
   ],
   "source": [
    "# Printing the Variable Information to check after deleting NaN rows\n",
    "cleveland_clean.info()"
   ]
  },
  {
   "cell_type": "markdown",
   "id": "OG5Yl3rzvjR3",
   "metadata": {
    "id": "OG5Yl3rzvjR3"
   },
   "source": [
    "We noticed that for the NUM attribute, there were numbers ranging from 0 to 4, however we decided to only have 2 categories. The first category would be presence of heart disease, represented by 1 and the second category would be absence of heart disease, represented by 0."
   ]
  },
  {
   "cell_type": "code",
   "execution_count": 18,
   "id": "yhbX4tJnvL7Q",
   "metadata": {
    "executionInfo": {
     "elapsed": 22,
     "status": "aborted",
     "timestamp": 1647585563797,
     "user": {
      "displayName": "Chan See Yin",
      "photoUrl": "https://lh3.googleusercontent.com/a/default-user=s64",
      "userId": "15318449340855885388"
     },
     "user_tz": -480
    },
    "id": "yhbX4tJnvL7Q"
   },
   "outputs": [],
   "source": [
    "cleveland_clean['DIS'] = np.where(cleveland_clean['NUM']==0, 0, 1)"
   ]
  },
  {
   "cell_type": "code",
   "execution_count": 19,
   "id": "6dc187d6",
   "metadata": {
    "executionInfo": {
     "elapsed": 21,
     "status": "aborted",
     "timestamp": 1647585563797,
     "user": {
      "displayName": "Chan See Yin",
      "photoUrl": "https://lh3.googleusercontent.com/a/default-user=s64",
      "userId": "15318449340855885388"
     },
     "user_tz": -480
    },
    "id": "6dc187d6"
   },
   "outputs": [],
   "source": [
    "cleveland_clean.to_csv('clean_heart_data.csv')"
   ]
  }
 ],
 "metadata": {
  "colab": {
   "name": "Data_Cleaning.ipynb",
   "provenance": []
  },
  "kernelspec": {
   "display_name": "Python 3 (ipykernel)",
   "language": "python",
   "name": "python3"
  },
  "language_info": {
   "codemirror_mode": {
    "name": "ipython",
    "version": 3
   },
   "file_extension": ".py",
   "mimetype": "text/x-python",
   "name": "python",
   "nbconvert_exporter": "python",
   "pygments_lexer": "ipython3",
   "version": "3.9.7"
  }
 },
 "nbformat": 4,
 "nbformat_minor": 5
}
