{
 "cells": [
  {
   "cell_type": "code",
   "execution_count": 1,
   "id": "c16cbe4e",
   "metadata": {
    "executionInfo": {
     "elapsed": 430,
     "status": "ok",
     "timestamp": 1650367687562,
     "user": {
      "displayName": "Anna Jessica Jillella",
      "userId": "09539236204514073968"
     },
     "user_tz": -480
    },
    "id": "c16cbe4e"
   },
   "outputs": [],
   "source": [
    "import numpy as np\n",
    "import pandas as pd\n",
    "import seaborn as sb\n",
    "import matplotlib.pyplot as plt\n",
    "sb.set()"
   ]
  },
  {
   "cell_type": "code",
   "execution_count": 2,
   "id": "ee946d45",
   "metadata": {
    "executionInfo": {
     "elapsed": 418,
     "status": "ok",
     "timestamp": 1650367688355,
     "user": {
      "displayName": "Anna Jessica Jillella",
      "userId": "09539236204514073968"
     },
     "user_tz": -480
    },
    "id": "ee946d45"
   },
   "outputs": [],
   "source": [
    "heartdata = pd.read_csv('clean_heart_data.csv')"
   ]
  },
  {
   "cell_type": "code",
   "execution_count": 3,
   "id": "7234a6d3",
   "metadata": {
    "colab": {
     "base_uri": "https://localhost:8080/",
     "height": 206
    },
    "executionInfo": {
     "elapsed": 55,
     "status": "ok",
     "timestamp": 1650367688363,
     "user": {
      "displayName": "Anna Jessica Jillella",
      "userId": "09539236204514073968"
     },
     "user_tz": -480
    },
    "id": "7234a6d3",
    "outputId": "41c86df8-d498-4643-fa1b-64be7dddf06c"
   },
   "outputs": [
    {
     "data": {
      "text/html": [
       "<div>\n",
       "<style scoped>\n",
       "    .dataframe tbody tr th:only-of-type {\n",
       "        vertical-align: middle;\n",
       "    }\n",
       "\n",
       "    .dataframe tbody tr th {\n",
       "        vertical-align: top;\n",
       "    }\n",
       "\n",
       "    .dataframe thead th {\n",
       "        text-align: right;\n",
       "    }\n",
       "</style>\n",
       "<table border=\"1\" class=\"dataframe\">\n",
       "  <thead>\n",
       "    <tr style=\"text-align: right;\">\n",
       "      <th></th>\n",
       "      <th>Unnamed: 0</th>\n",
       "      <th>AGE</th>\n",
       "      <th>SEX</th>\n",
       "      <th>CP</th>\n",
       "      <th>TRESTBPS</th>\n",
       "      <th>CHOL</th>\n",
       "      <th>FBS</th>\n",
       "      <th>RESTECG</th>\n",
       "      <th>THALCH</th>\n",
       "      <th>EXANG</th>\n",
       "      <th>OLDPEAK</th>\n",
       "      <th>SLOPE</th>\n",
       "      <th>CA</th>\n",
       "      <th>THAL</th>\n",
       "      <th>NUM</th>\n",
       "      <th>LOC</th>\n",
       "      <th>DIS</th>\n",
       "    </tr>\n",
       "  </thead>\n",
       "  <tbody>\n",
       "    <tr>\n",
       "      <th>0</th>\n",
       "      <td>0</td>\n",
       "      <td>63.0</td>\n",
       "      <td>Male</td>\n",
       "      <td>1.0</td>\n",
       "      <td>145.0</td>\n",
       "      <td>233.0</td>\n",
       "      <td>1.0</td>\n",
       "      <td>2.0</td>\n",
       "      <td>150.0</td>\n",
       "      <td>0.0</td>\n",
       "      <td>2.3</td>\n",
       "      <td>3.0</td>\n",
       "      <td>0.0</td>\n",
       "      <td>1</td>\n",
       "      <td>0</td>\n",
       "      <td>CL</td>\n",
       "      <td>0</td>\n",
       "    </tr>\n",
       "    <tr>\n",
       "      <th>1</th>\n",
       "      <td>1</td>\n",
       "      <td>67.0</td>\n",
       "      <td>Male</td>\n",
       "      <td>4.0</td>\n",
       "      <td>160.0</td>\n",
       "      <td>286.0</td>\n",
       "      <td>0.0</td>\n",
       "      <td>2.0</td>\n",
       "      <td>108.0</td>\n",
       "      <td>1.0</td>\n",
       "      <td>1.5</td>\n",
       "      <td>2.0</td>\n",
       "      <td>3.0</td>\n",
       "      <td>0</td>\n",
       "      <td>2</td>\n",
       "      <td>CL</td>\n",
       "      <td>1</td>\n",
       "    </tr>\n",
       "    <tr>\n",
       "      <th>2</th>\n",
       "      <td>2</td>\n",
       "      <td>67.0</td>\n",
       "      <td>Male</td>\n",
       "      <td>4.0</td>\n",
       "      <td>120.0</td>\n",
       "      <td>229.0</td>\n",
       "      <td>0.0</td>\n",
       "      <td>2.0</td>\n",
       "      <td>129.0</td>\n",
       "      <td>1.0</td>\n",
       "      <td>2.6</td>\n",
       "      <td>2.0</td>\n",
       "      <td>2.0</td>\n",
       "      <td>2</td>\n",
       "      <td>1</td>\n",
       "      <td>CL</td>\n",
       "      <td>1</td>\n",
       "    </tr>\n",
       "    <tr>\n",
       "      <th>3</th>\n",
       "      <td>3</td>\n",
       "      <td>37.0</td>\n",
       "      <td>Male</td>\n",
       "      <td>3.0</td>\n",
       "      <td>130.0</td>\n",
       "      <td>250.0</td>\n",
       "      <td>0.0</td>\n",
       "      <td>0.0</td>\n",
       "      <td>187.0</td>\n",
       "      <td>0.0</td>\n",
       "      <td>3.5</td>\n",
       "      <td>3.0</td>\n",
       "      <td>0.0</td>\n",
       "      <td>0</td>\n",
       "      <td>0</td>\n",
       "      <td>CL</td>\n",
       "      <td>0</td>\n",
       "    </tr>\n",
       "    <tr>\n",
       "      <th>4</th>\n",
       "      <td>4</td>\n",
       "      <td>41.0</td>\n",
       "      <td>Female</td>\n",
       "      <td>2.0</td>\n",
       "      <td>130.0</td>\n",
       "      <td>204.0</td>\n",
       "      <td>0.0</td>\n",
       "      <td>2.0</td>\n",
       "      <td>172.0</td>\n",
       "      <td>0.0</td>\n",
       "      <td>1.4</td>\n",
       "      <td>1.0</td>\n",
       "      <td>0.0</td>\n",
       "      <td>0</td>\n",
       "      <td>0</td>\n",
       "      <td>CL</td>\n",
       "      <td>0</td>\n",
       "    </tr>\n",
       "  </tbody>\n",
       "</table>\n",
       "</div>"
      ],
      "text/plain": [
       "   Unnamed: 0   AGE     SEX   CP  TRESTBPS   CHOL  FBS  RESTECG  THALCH  \\\n",
       "0           0  63.0    Male  1.0     145.0  233.0  1.0      2.0   150.0   \n",
       "1           1  67.0    Male  4.0     160.0  286.0  0.0      2.0   108.0   \n",
       "2           2  67.0    Male  4.0     120.0  229.0  0.0      2.0   129.0   \n",
       "3           3  37.0    Male  3.0     130.0  250.0  0.0      0.0   187.0   \n",
       "4           4  41.0  Female  2.0     130.0  204.0  0.0      2.0   172.0   \n",
       "\n",
       "   EXANG  OLDPEAK  SLOPE   CA  THAL  NUM LOC  DIS  \n",
       "0    0.0      2.3    3.0  0.0     1    0  CL    0  \n",
       "1    1.0      1.5    2.0  3.0     0    2  CL    1  \n",
       "2    1.0      2.6    2.0  2.0     2    1  CL    1  \n",
       "3    0.0      3.5    3.0  0.0     0    0  CL    0  \n",
       "4    0.0      1.4    1.0  0.0     0    0  CL    0  "
      ]
     },
     "execution_count": 3,
     "metadata": {},
     "output_type": "execute_result"
    }
   ],
   "source": [
    "heartdata.head()"
   ]
  },
  {
   "cell_type": "code",
   "execution_count": 4,
   "id": "109c87b0",
   "metadata": {
    "executionInfo": {
     "elapsed": 55,
     "status": "ok",
     "timestamp": 1650367688365,
     "user": {
      "displayName": "Anna Jessica Jillella",
      "userId": "09539236204514073968"
     },
     "user_tz": -480
    },
    "id": "109c87b0"
   },
   "outputs": [],
   "source": [
    "heartdata.drop(\"LOC\", axis=1, inplace=True)\n",
    "heartdata.drop(\"NUM\", axis=1, inplace=True)\n",
    "heartdata.drop(\"Unnamed: 0\", axis=1, inplace=True)"
   ]
  },
  {
   "cell_type": "code",
   "execution_count": 5,
   "id": "0a6c31fe",
   "metadata": {
    "executionInfo": {
     "elapsed": 54,
     "status": "ok",
     "timestamp": 1650367688365,
     "user": {
      "displayName": "Anna Jessica Jillella",
      "userId": "09539236204514073968"
     },
     "user_tz": -480
    },
    "id": "0a6c31fe"
   },
   "outputs": [],
   "source": [
    "heartdata['SEX'] = heartdata.SEX.map({'Female': 0, 'Male': 1})"
   ]
  },
  {
   "cell_type": "code",
   "execution_count": 6,
   "id": "03a74358",
   "metadata": {
    "colab": {
     "base_uri": "https://localhost:8080/",
     "height": 206
    },
    "executionInfo": {
     "elapsed": 54,
     "status": "ok",
     "timestamp": 1650367688365,
     "user": {
      "displayName": "Anna Jessica Jillella",
      "userId": "09539236204514073968"
     },
     "user_tz": -480
    },
    "id": "03a74358",
    "outputId": "c45db091-aacc-4d59-b950-bf7cc8ddf9c3"
   },
   "outputs": [
    {
     "data": {
      "text/html": [
       "<div>\n",
       "<style scoped>\n",
       "    .dataframe tbody tr th:only-of-type {\n",
       "        vertical-align: middle;\n",
       "    }\n",
       "\n",
       "    .dataframe tbody tr th {\n",
       "        vertical-align: top;\n",
       "    }\n",
       "\n",
       "    .dataframe thead th {\n",
       "        text-align: right;\n",
       "    }\n",
       "</style>\n",
       "<table border=\"1\" class=\"dataframe\">\n",
       "  <thead>\n",
       "    <tr style=\"text-align: right;\">\n",
       "      <th></th>\n",
       "      <th>AGE</th>\n",
       "      <th>SEX</th>\n",
       "      <th>CP</th>\n",
       "      <th>TRESTBPS</th>\n",
       "      <th>CHOL</th>\n",
       "      <th>FBS</th>\n",
       "      <th>RESTECG</th>\n",
       "      <th>THALCH</th>\n",
       "      <th>EXANG</th>\n",
       "      <th>OLDPEAK</th>\n",
       "      <th>SLOPE</th>\n",
       "      <th>CA</th>\n",
       "      <th>THAL</th>\n",
       "      <th>DIS</th>\n",
       "    </tr>\n",
       "  </thead>\n",
       "  <tbody>\n",
       "    <tr>\n",
       "      <th>0</th>\n",
       "      <td>63.0</td>\n",
       "      <td>1</td>\n",
       "      <td>1.0</td>\n",
       "      <td>145.0</td>\n",
       "      <td>233.0</td>\n",
       "      <td>1.0</td>\n",
       "      <td>2.0</td>\n",
       "      <td>150.0</td>\n",
       "      <td>0.0</td>\n",
       "      <td>2.3</td>\n",
       "      <td>3.0</td>\n",
       "      <td>0.0</td>\n",
       "      <td>1</td>\n",
       "      <td>0</td>\n",
       "    </tr>\n",
       "    <tr>\n",
       "      <th>1</th>\n",
       "      <td>67.0</td>\n",
       "      <td>1</td>\n",
       "      <td>4.0</td>\n",
       "      <td>160.0</td>\n",
       "      <td>286.0</td>\n",
       "      <td>0.0</td>\n",
       "      <td>2.0</td>\n",
       "      <td>108.0</td>\n",
       "      <td>1.0</td>\n",
       "      <td>1.5</td>\n",
       "      <td>2.0</td>\n",
       "      <td>3.0</td>\n",
       "      <td>0</td>\n",
       "      <td>1</td>\n",
       "    </tr>\n",
       "    <tr>\n",
       "      <th>2</th>\n",
       "      <td>67.0</td>\n",
       "      <td>1</td>\n",
       "      <td>4.0</td>\n",
       "      <td>120.0</td>\n",
       "      <td>229.0</td>\n",
       "      <td>0.0</td>\n",
       "      <td>2.0</td>\n",
       "      <td>129.0</td>\n",
       "      <td>1.0</td>\n",
       "      <td>2.6</td>\n",
       "      <td>2.0</td>\n",
       "      <td>2.0</td>\n",
       "      <td>2</td>\n",
       "      <td>1</td>\n",
       "    </tr>\n",
       "    <tr>\n",
       "      <th>3</th>\n",
       "      <td>37.0</td>\n",
       "      <td>1</td>\n",
       "      <td>3.0</td>\n",
       "      <td>130.0</td>\n",
       "      <td>250.0</td>\n",
       "      <td>0.0</td>\n",
       "      <td>0.0</td>\n",
       "      <td>187.0</td>\n",
       "      <td>0.0</td>\n",
       "      <td>3.5</td>\n",
       "      <td>3.0</td>\n",
       "      <td>0.0</td>\n",
       "      <td>0</td>\n",
       "      <td>0</td>\n",
       "    </tr>\n",
       "    <tr>\n",
       "      <th>4</th>\n",
       "      <td>41.0</td>\n",
       "      <td>0</td>\n",
       "      <td>2.0</td>\n",
       "      <td>130.0</td>\n",
       "      <td>204.0</td>\n",
       "      <td>0.0</td>\n",
       "      <td>2.0</td>\n",
       "      <td>172.0</td>\n",
       "      <td>0.0</td>\n",
       "      <td>1.4</td>\n",
       "      <td>1.0</td>\n",
       "      <td>0.0</td>\n",
       "      <td>0</td>\n",
       "      <td>0</td>\n",
       "    </tr>\n",
       "  </tbody>\n",
       "</table>\n",
       "</div>"
      ],
      "text/plain": [
       "    AGE  SEX   CP  TRESTBPS   CHOL  FBS  RESTECG  THALCH  EXANG  OLDPEAK  \\\n",
       "0  63.0    1  1.0     145.0  233.0  1.0      2.0   150.0    0.0      2.3   \n",
       "1  67.0    1  4.0     160.0  286.0  0.0      2.0   108.0    1.0      1.5   \n",
       "2  67.0    1  4.0     120.0  229.0  0.0      2.0   129.0    1.0      2.6   \n",
       "3  37.0    1  3.0     130.0  250.0  0.0      0.0   187.0    0.0      3.5   \n",
       "4  41.0    0  2.0     130.0  204.0  0.0      2.0   172.0    0.0      1.4   \n",
       "\n",
       "   SLOPE   CA  THAL  DIS  \n",
       "0    3.0  0.0     1    0  \n",
       "1    2.0  3.0     0    1  \n",
       "2    2.0  2.0     2    1  \n",
       "3    3.0  0.0     0    0  \n",
       "4    1.0  0.0     0    0  "
      ]
     },
     "execution_count": 6,
     "metadata": {},
     "output_type": "execute_result"
    }
   ],
   "source": [
    "heartdata.head()"
   ]
  },
  {
   "cell_type": "code",
   "execution_count": 7,
   "id": "d8ed25e5",
   "metadata": {
    "colab": {
     "base_uri": "https://localhost:8080/"
    },
    "executionInfo": {
     "elapsed": 54,
     "status": "ok",
     "timestamp": 1650367688366,
     "user": {
      "displayName": "Anna Jessica Jillella",
      "userId": "09539236204514073968"
     },
     "user_tz": -480
    },
    "id": "d8ed25e5",
    "outputId": "eb0c3906-4715-4a79-b904-5c62985d80ef",
    "scrolled": false
   },
   "outputs": [
    {
     "name": "stdout",
     "output_type": "stream",
     "text": [
      "<class 'pandas.core.frame.DataFrame'>\n",
      "RangeIndex: 303 entries, 0 to 302\n",
      "Data columns (total 14 columns):\n",
      " #   Column    Non-Null Count  Dtype  \n",
      "---  ------    --------------  -----  \n",
      " 0   AGE       303 non-null    float64\n",
      " 1   SEX       303 non-null    int64  \n",
      " 2   CP        303 non-null    float64\n",
      " 3   TRESTBPS  303 non-null    float64\n",
      " 4   CHOL      303 non-null    float64\n",
      " 5   FBS       303 non-null    float64\n",
      " 6   RESTECG   303 non-null    float64\n",
      " 7   THALCH    303 non-null    float64\n",
      " 8   EXANG     303 non-null    float64\n",
      " 9   OLDPEAK   303 non-null    float64\n",
      " 10  SLOPE     303 non-null    float64\n",
      " 11  CA        303 non-null    float64\n",
      " 12  THAL      303 non-null    int64  \n",
      " 13  DIS       303 non-null    int64  \n",
      "dtypes: float64(11), int64(3)\n",
      "memory usage: 33.3 KB\n"
     ]
    }
   ],
   "source": [
    "heartdata.info()"
   ]
  },
  {
   "cell_type": "markdown",
   "id": "e190d11f",
   "metadata": {
    "id": "e190d11f"
   },
   "source": [
    "XGBoost can be used for regression and classfication problems."
   ]
  },
  {
   "cell_type": "markdown",
   "id": "fb3afa30",
   "metadata": {
    "id": "fb3afa30"
   },
   "source": [
    "# XGBoost"
   ]
  },
  {
   "cell_type": "markdown",
   "id": "25cf0996",
   "metadata": {
    "id": "25cf0996"
   },
   "source": [
    "### Data Preprocessing"
   ]
  },
  {
   "cell_type": "markdown",
   "id": "f51bc095",
   "metadata": {
    "id": "f51bc095"
   },
   "source": [
    "For XGBoost to achieve top performance, numeric features should be scaled and categorical features should be encoded."
   ]
  },
  {
   "cell_type": "markdown",
   "id": "918e3fb6",
   "metadata": {
    "id": "918e3fb6"
   },
   "source": [
    "Now, before we move on to pipelines, let’s divide the data into feature and target arrays beforehand."
   ]
  },
  {
   "cell_type": "code",
   "execution_count": 8,
   "id": "9ac3dcf4",
   "metadata": {
    "executionInfo": {
     "elapsed": 51,
     "status": "ok",
     "timestamp": 1650367688367,
     "user": {
      "displayName": "Anna Jessica Jillella",
      "userId": "09539236204514073968"
     },
     "user_tz": -480
    },
    "id": "9ac3dcf4"
   },
   "outputs": [],
   "source": [
    "X = heartdata.drop(\"DIS\", axis=1)\n",
    "y = heartdata.DIS"
   ]
  },
  {
   "cell_type": "markdown",
   "id": "0803b376",
   "metadata": {
    "id": "0803b376"
   },
   "source": [
    "Since there are both categorical and numeric features, we will build two separate pipelines and combine them later."
   ]
  },
  {
   "cell_type": "markdown",
   "id": "3e26972e",
   "metadata": {
    "id": "3e26972e"
   },
   "source": [
    "For the categorical features, we will impute the missing values with the mode of the column and encode them with One-Hot encoding."
   ]
  },
  {
   "cell_type": "code",
   "execution_count": 9,
   "id": "c8730941",
   "metadata": {
    "executionInfo": {
     "elapsed": 50,
     "status": "ok",
     "timestamp": 1650367688367,
     "user": {
      "displayName": "Anna Jessica Jillella",
      "userId": "09539236204514073968"
     },
     "user_tz": -480
    },
    "id": "c8730941"
   },
   "outputs": [],
   "source": [
    "from sklearn.impute import SimpleImputer\n",
    "from sklearn.pipeline import Pipeline\n",
    "from sklearn.preprocessing import OneHotEncoder\n",
    "\n",
    "categorical_pipeline = Pipeline(\n",
    "    steps=[\n",
    "        (\"impute\", SimpleImputer(strategy=\"most_frequent\")),\n",
    "        (\"oh-encode\", OneHotEncoder(handle_unknown=\"ignore\", sparse=False)),\n",
    "    ]\n",
    ")"
   ]
  },
  {
   "cell_type": "markdown",
   "id": "0fdc80e1",
   "metadata": {
    "id": "0fdc80e1"
   },
   "source": [
    "For the numeric features, I will choose the mean as an imputer and StandardScaler so that the features have 0 mean and a variance of 1."
   ]
  },
  {
   "cell_type": "code",
   "execution_count": 10,
   "id": "2c99ee4b",
   "metadata": {
    "executionInfo": {
     "elapsed": 51,
     "status": "ok",
     "timestamp": 1650367688368,
     "user": {
      "displayName": "Anna Jessica Jillella",
      "userId": "09539236204514073968"
     },
     "user_tz": -480
    },
    "id": "2c99ee4b"
   },
   "outputs": [],
   "source": [
    "from sklearn.preprocessing import StandardScaler\n",
    "\n",
    "numeric_pipeline = Pipeline(\n",
    "    steps=[(\"impute\", SimpleImputer(strategy=\"mean\")), \n",
    "           (\"scale\", StandardScaler())]\n",
    ")"
   ]
  },
  {
   "cell_type": "markdown",
   "id": "f3bc8676",
   "metadata": {
    "id": "f3bc8676"
   },
   "source": [
    "Finally, we will combine the two pipelines with a column transformer. To specify which columns the pipelines are designed for, we should first isolate the categorical and numeric feature names:"
   ]
  },
  {
   "cell_type": "code",
   "execution_count": 11,
   "id": "b57c05c0",
   "metadata": {
    "executionInfo": {
     "elapsed": 50,
     "status": "ok",
     "timestamp": 1650367688368,
     "user": {
      "displayName": "Anna Jessica Jillella",
      "userId": "09539236204514073968"
     },
     "user_tz": -480
    },
    "id": "b57c05c0"
   },
   "outputs": [],
   "source": [
    "cat_cols = X.select_dtypes(exclude=\"number\").columns\n",
    "num_cols = X.select_dtypes(include=\"number\").columns"
   ]
  },
  {
   "cell_type": "markdown",
   "id": "1d217955",
   "metadata": {
    "id": "1d217955"
   },
   "source": [
    "Next, we will input these along with their corresponding pipelines into a ColumnTransFormer instance:"
   ]
  },
  {
   "cell_type": "code",
   "execution_count": 12,
   "id": "d48acfd3",
   "metadata": {
    "executionInfo": {
     "elapsed": 50,
     "status": "ok",
     "timestamp": 1650367688368,
     "user": {
      "displayName": "Anna Jessica Jillella",
      "userId": "09539236204514073968"
     },
     "user_tz": -480
    },
    "id": "d48acfd3"
   },
   "outputs": [],
   "source": [
    "from sklearn.compose import ColumnTransformer\n",
    "\n",
    "full_processor = ColumnTransformer(\n",
    "    transformers=[\n",
    "        (\"numeric\", numeric_pipeline, num_cols),\n",
    "        (\"categorical\", categorical_pipeline, cat_cols),\n",
    "    ]\n",
    ")"
   ]
  },
  {
   "cell_type": "markdown",
   "id": "12e043e5",
   "metadata": {
    "id": "12e043e5"
   },
   "source": [
    "The full pipeline is finally ready. The only thing missing is the XGBoost classifier."
   ]
  },
  {
   "cell_type": "markdown",
   "id": "d466f06b",
   "metadata": {
    "id": "d466f06b"
   },
   "source": [
    "### Classification with XGBoost"
   ]
  },
  {
   "cell_type": "markdown",
   "id": "a8b12f87",
   "metadata": {
    "id": "a8b12f87"
   },
   "source": [
    "To get started with xgboost, just install it either with pip or conda!!"
   ]
  },
  {
   "cell_type": "code",
   "execution_count": 13,
   "id": "af16177a",
   "metadata": {
    "executionInfo": {
     "elapsed": 51,
     "status": "ok",
     "timestamp": 1650367688369,
     "user": {
      "displayName": "Anna Jessica Jillella",
      "userId": "09539236204514073968"
     },
     "user_tz": -480
    },
    "id": "af16177a"
   },
   "outputs": [],
   "source": [
    "import xgboost as xgb\n",
    "\n",
    "xgb_cl = xgb.XGBClassifier()"
   ]
  },
  {
   "cell_type": "markdown",
   "id": "9f12f411",
   "metadata": {
    "id": "9f12f411"
   },
   "source": [
    "Before we train the classifier, let’s preprocess the data and divide it into train and test sets:"
   ]
  },
  {
   "cell_type": "code",
   "execution_count": 14,
   "id": "ec457aae",
   "metadata": {
    "executionInfo": {
     "elapsed": 50,
     "status": "ok",
     "timestamp": 1650367688369,
     "user": {
      "displayName": "Anna Jessica Jillella",
      "userId": "09539236204514073968"
     },
     "user_tz": -480
    },
    "id": "ec457aae"
   },
   "outputs": [],
   "source": [
    "# Apply preprocessing\n",
    "X_processed = full_processor.fit_transform(X)\n",
    "y_processed = SimpleImputer(strategy=\"most_frequent\").fit_transform(\n",
    "    y.values.reshape(-1, 1)\n",
    ")\n",
    "\n",
    "from sklearn.model_selection import train_test_split\n",
    "\n",
    "X_train, X_test, y_train, y_test = train_test_split(\n",
    "    X_processed, y_processed, stratify=y_processed, random_state=1121218\n",
    ")"
   ]
  },
  {
   "cell_type": "markdown",
   "id": "2acc5dd2",
   "metadata": {
    "id": "2acc5dd2"
   },
   "source": [
    "Now, we fit the classifier with default parameters and evaluate its performance:"
   ]
  },
  {
   "cell_type": "code",
   "execution_count": 15,
   "id": "17c04063",
   "metadata": {
    "colab": {
     "base_uri": "https://localhost:8080/"
    },
    "executionInfo": {
     "elapsed": 483,
     "status": "ok",
     "timestamp": 1650367688802,
     "user": {
      "displayName": "Anna Jessica Jillella",
      "userId": "09539236204514073968"
     },
     "user_tz": -480
    },
    "id": "17c04063",
    "outputId": "f639d3cf-ceca-4bec-f0a6-7358dea5a3b3"
   },
   "outputs": [
    {
     "name": "stderr",
     "output_type": "stream",
     "text": [
      "C:\\Users\\asus\\anaconda3\\lib\\site-packages\\xgboost\\sklearn.py:1224: UserWarning: The use of label encoder in XGBClassifier is deprecated and will be removed in a future release. To remove this warning, do the following: 1) Pass option use_label_encoder=False when constructing XGBClassifier object; and 2) Encode your labels (y) as integers starting with 0, i.e. 0, 1, 2, ..., [num_class - 1].\n",
      "  warnings.warn(label_encoder_deprecation_msg, UserWarning)\n",
      "C:\\Users\\asus\\anaconda3\\lib\\site-packages\\sklearn\\preprocessing\\_label.py:98: DataConversionWarning: A column-vector y was passed when a 1d array was expected. Please change the shape of y to (n_samples, ), for example using ravel().\n",
      "  y = column_or_1d(y, warn=True)\n",
      "C:\\Users\\asus\\anaconda3\\lib\\site-packages\\sklearn\\preprocessing\\_label.py:133: DataConversionWarning: A column-vector y was passed when a 1d array was expected. Please change the shape of y to (n_samples, ), for example using ravel().\n",
      "  y = column_or_1d(y, warn=True)\n"
     ]
    },
    {
     "name": "stdout",
     "output_type": "stream",
     "text": [
      "[21:23:47] WARNING: C:/Users/Administrator/workspace/xgboost-win64_release_1.5.1/src/learner.cc:1115: Starting in XGBoost 1.3.0, the default evaluation metric used with the objective 'binary:logistic' was changed from 'error' to 'logloss'. Explicitly set eval_metric if you'd like to restore the old behavior.\n"
     ]
    },
    {
     "data": {
      "text/plain": [
       "0.7631578947368421"
      ]
     },
     "execution_count": 15,
     "metadata": {},
     "output_type": "execute_result"
    }
   ],
   "source": [
    "from sklearn.metrics import accuracy_score\n",
    "\n",
    "# Init classifier\n",
    "xgb_cl = xgb.XGBClassifier()\n",
    "\n",
    "# Fit\n",
    "xgb_cl.fit(X_train, y_train)\n",
    "\n",
    "# Predict\n",
    "preds = xgb_cl.predict(X_test)\n",
    "\n",
    "# Score\n",
    "accuracy_score(y_test, preds)"
   ]
  },
  {
   "cell_type": "code",
   "execution_count": 16,
   "id": "415a5df0",
   "metadata": {
    "colab": {
     "base_uri": "https://localhost:8080/",
     "height": 409
    },
    "executionInfo": {
     "elapsed": 685,
     "status": "ok",
     "timestamp": 1650367689480,
     "user": {
      "displayName": "Anna Jessica Jillella",
      "userId": "09539236204514073968"
     },
     "user_tz": -480
    },
    "id": "415a5df0",
    "outputId": "099eb5e1-b341-43b0-98f0-4a1b76937c35"
   },
   "outputs": [
    {
     "name": "stdout",
     "output_type": "stream",
     "text": [
      "\n",
      "Accuracy for training set for XGBoost = 1.0\n",
      "Accuracy for test set for XGBoost = 0.7631578947368421\n",
      "F1 score for test set for XGBoost:  0.7352941176470589\n",
      "\n",
      "Score:  0.7631578947368421\n"
     ]
    },
    {
     "data": {
      "text/plain": [
       "Text(0.5, 1.0, 'Test data')"
      ]
     },
     "execution_count": 16,
     "metadata": {},
     "output_type": "execute_result"
    },
    {
     "data": {
      "image/png": "[encoded data removed]",
      "text/plain": [
       "<Figure size 864x288 with 4 Axes>"
      ]
     },
     "metadata": {},
     "output_type": "display_data"
    }
   ],
   "source": [
    "#Evaluation of accuracy based on confusion matrix \n",
    "from sklearn.metrics import confusion_matrix\n",
    "from sklearn import metrics\n",
    "\n",
    "y_pred = xgb_cl.predict(X_test)\n",
    "y_pred_train = xgb_cl.predict(X_train)\n",
    "\n",
    "cm_test = confusion_matrix(y_pred, y_test)\n",
    "cm_train = confusion_matrix(y_pred_train, y_train)\n",
    "\n",
    "f1_score = metrics.f1_score(y_test, y_pred)\n",
    "\n",
    "print()\n",
    "print('Accuracy for training set for XGBoost = {}'.format((cm_train[0][0] + cm_train[1][1])/len(y_train)))\n",
    "print('Accuracy for test set for XGBoost = {}'.format((cm_test[0][0] + cm_test[1][1])/len(y_test)))\n",
    "print('F1 score for test set for XGBoost: ', f1_score)\n",
    "print()\n",
    "print(\"Score: \", accuracy_score(y_test, preds))\n",
    "\n",
    "#Plotting confusion matrices for visualisation\n",
    "from sklearn.metrics import confusion_matrix\n",
    "f, axes = plt.subplots(1, 2, figsize=(12, 4))\n",
    "a = sb.heatmap(confusion_matrix(y_pred_train, y_train),\n",
    "           annot = True, fmt=\".0f\", annot_kws={\"size\": 18}, ax = axes[0])\n",
    "b = sb.heatmap(confusion_matrix(y_pred, y_test), \n",
    "           annot = True, fmt=\".0f\", annot_kws={\"size\": 18}, ax = axes[1])\n",
    "a.set_title('Train data')\n",
    "b.set_title('Test data')"
   ]
  },
  {
   "cell_type": "markdown",
   "id": "b9f00c57",
   "metadata": {
    "id": "b9f00c57"
   },
   "source": [
    "Even with default parameters, we got an 80% accuracy which is reasonably good. In the next sections, we will try to improve the model even further by using GridSearchCV offered by Scikit-learn."
   ]
  },
  {
   "cell_type": "markdown",
   "id": "65d2c970",
   "metadata": {
    "id": "65d2c970"
   },
   "source": [
    "### What Powers XGBoost Under the Hood"
   ]
  },
  {
   "cell_type": "markdown",
   "id": "75ea180a",
   "metadata": {
    "id": "75ea180a"
   },
   "source": [
    "Unlike many other algorithms, XGBoost is an ensemble learning algorithm meaning that it combines the results of many models, called base learners to make a prediction."
   ]
  },
  {
   "cell_type": "markdown",
   "id": "12d7e191",
   "metadata": {
    "id": "12d7e191"
   },
   "source": [
    "Just like in Random Forests, XGBoost uses Decision Trees as base learners. However, the trees used by XGBoost are a bit different than traditional decision trees. They are called CART trees (Classification and Regression trees) and instead of containing a single decision in each “leaf” node, they contain real-value scores of whether an instance belongs to a group. After the tree reaches max depth, the decision can be made by converting the scores into categories using a certain threshold."
   ]
  },
  {
   "cell_type": "markdown",
   "id": "d76a970d",
   "metadata": {
    "id": "d76a970d"
   },
   "source": [
    "So far, we have been using only the default hyperparameters of the XGBoost Classifier."
   ]
  },
  {
   "cell_type": "markdown",
   "id": "6ffb41d5",
   "metadata": {
    "id": "6ffb41d5"
   },
   "source": [
    "### Overview of XGBoost Classifier Hyperparameters"
   ]
  },
  {
   "cell_type": "code",
   "execution_count": 17,
   "id": "a0a3f8fb",
   "metadata": {
    "colab": {
     "base_uri": "https://localhost:8080/"
    },
    "executionInfo": {
     "elapsed": 17,
     "status": "ok",
     "timestamp": 1650367689481,
     "user": {
      "displayName": "Anna Jessica Jillella",
      "userId": "09539236204514073968"
     },
     "user_tz": -480
    },
    "id": "a0a3f8fb",
    "outputId": "6eb58200-93b8-4ff6-b341-6df897c4e0d8"
   },
   "outputs": [
    {
     "data": {
      "text/plain": [
       "XGBClassifier(base_score=0.5, booster='gbtree', colsample_bylevel=1,\n",
       "              colsample_bynode=1, colsample_bytree=1, enable_categorical=False,\n",
       "              gamma=0, gpu_id=-1, importance_type=None,\n",
       "              interaction_constraints='', learning_rate=0.300000012,\n",
       "              max_delta_step=0, max_depth=6, min_child_weight=1, missing=nan,\n",
       "              monotone_constraints='()', n_estimators=100, n_jobs=8,\n",
       "              num_parallel_tree=1, predictor='auto', random_state=0,\n",
       "              reg_alpha=0, reg_lambda=1, scale_pos_weight=1, subsample=1,\n",
       "              tree_method='exact', validate_parameters=1, verbosity=None)"
      ]
     },
     "execution_count": 17,
     "metadata": {},
     "output_type": "execute_result"
    }
   ],
   "source": [
    "xgb_cl"
   ]
  },
  {
   "cell_type": "markdown",
   "id": "329a1d6b",
   "metadata": {
    "id": "329a1d6b"
   },
   "source": [
    "We can tune these parameters and see if they change the performance of the model."
   ]
  },
  {
   "cell_type": "markdown",
   "id": "ab55bc2b",
   "metadata": {
    "id": "ab55bc2b"
   },
   "source": [
    "### Hyperparameter Tuning of XGBoost with GridSearchCV"
   ]
  },
  {
   "cell_type": "markdown",
   "id": "713723b6",
   "metadata": {
    "id": "713723b6"
   },
   "source": [
    "We will be using the GridSearchCV class from Scikit-learn which accepts possible values for desired hyperparameters and fits separate models on the given data for each combination of hyperparameters."
   ]
  },
  {
   "cell_type": "markdown",
   "id": "0d968fe3",
   "metadata": {
    "id": "0d968fe3"
   },
   "source": [
    "Let’s create the parameter grid for the first round:"
   ]
  },
  {
   "cell_type": "code",
   "execution_count": 18,
   "id": "9cb1f153",
   "metadata": {
    "executionInfo": {
     "elapsed": 12,
     "status": "ok",
     "timestamp": 1650367689482,
     "user": {
      "displayName": "Anna Jessica Jillella",
      "userId": "09539236204514073968"
     },
     "user_tz": -480
    },
    "id": "9cb1f153"
   },
   "outputs": [],
   "source": [
    "param_grid = {\n",
    "    \"max_depth\": [3, 4, 5, 7],\n",
    "    \"learning_rate\": [0.1, 0.01, 0.05],\n",
    "    \"gamma\": [0, 0.25, 1],\n",
    "    \"reg_lambda\": [0, 1, 10],\n",
    "    \"scale_pos_weight\": [1, 3, 5],\n",
    "    \"subsample\": [0.8],\n",
    "    \"colsample_bytree\": [0.5],\n",
    "}"
   ]
  },
  {
   "cell_type": "markdown",
   "id": "27bd1f08",
   "metadata": {
    "id": "27bd1f08"
   },
   "source": [
    "In the grid, I fixed subsample and colsample_bytree to recommended values to speed things up and prevent overfitting."
   ]
  },
  {
   "cell_type": "markdown",
   "id": "5aea3ff6",
   "metadata": {
    "id": "5aea3ff6"
   },
   "source": [
    "We will import GridSearchCV from sklearn.model_selection, instantiate and fit it to our preprocessed data:"
   ]
  },
  {
   "cell_type": "code",
   "execution_count": 19,
   "id": "5d49ef64",
   "metadata": {
    "colab": {
     "base_uri": "https://localhost:8080/"
    },
    "executionInfo": {
     "elapsed": 23478,
     "status": "ok",
     "timestamp": 1650367712949,
     "user": {
      "displayName": "Anna Jessica Jillella",
      "userId": "09539236204514073968"
     },
     "user_tz": -480
    },
    "id": "5d49ef64",
    "outputId": "76f4bacb-b591-4184-bee4-47d49612d7a8"
   },
   "outputs": [
    {
     "name": "stdout",
     "output_type": "stream",
     "text": [
      "[21:24:20] WARNING: C:/Users/Administrator/workspace/xgboost-win64_release_1.5.1/src/learner.cc:1115: Starting in XGBoost 1.3.0, the default evaluation metric used with the objective 'binary:logistic' was changed from 'error' to 'logloss'. Explicitly set eval_metric if you'd like to restore the old behavior.\n"
     ]
    },
    {
     "name": "stderr",
     "output_type": "stream",
     "text": [
      "C:\\Users\\asus\\anaconda3\\lib\\site-packages\\xgboost\\sklearn.py:1224: UserWarning: The use of label encoder in XGBClassifier is deprecated and will be removed in a future release. To remove this warning, do the following: 1) Pass option use_label_encoder=False when constructing XGBClassifier object; and 2) Encode your labels (y) as integers starting with 0, i.e. 0, 1, 2, ..., [num_class - 1].\n",
      "  warnings.warn(label_encoder_deprecation_msg, UserWarning)\n",
      "C:\\Users\\asus\\anaconda3\\lib\\site-packages\\sklearn\\preprocessing\\_label.py:98: DataConversionWarning: A column-vector y was passed when a 1d array was expected. Please change the shape of y to (n_samples, ), for example using ravel().\n",
      "  y = column_or_1d(y, warn=True)\n",
      "C:\\Users\\asus\\anaconda3\\lib\\site-packages\\sklearn\\preprocessing\\_label.py:133: DataConversionWarning: A column-vector y was passed when a 1d array was expected. Please change the shape of y to (n_samples, ), for example using ravel().\n",
      "  y = column_or_1d(y, warn=True)\n"
     ]
    }
   ],
   "source": [
    "from sklearn.model_selection import GridSearchCV\n",
    "\n",
    "# Init classifier\n",
    "xgb_cl = xgb.XGBClassifier(objective=\"binary:logistic\")\n",
    "\n",
    "# Init Grid Search\n",
    "grid_cv = GridSearchCV(xgb_cl, param_grid, n_jobs=-1, cv=3, scoring=\"roc_auc\")\n",
    "\n",
    "# Fit\n",
    "_ = grid_cv.fit(X_processed, y_processed)"
   ]
  },
  {
   "cell_type": "markdown",
   "id": "4e2dca6c",
   "metadata": {
    "id": "4e2dca6c"
   },
   "source": [
    "After an excruciatingly long time, we finally got the best params and best score:"
   ]
  },
  {
   "cell_type": "code",
   "execution_count": 20,
   "id": "1b7d7842",
   "metadata": {
    "colab": {
     "base_uri": "https://localhost:8080/"
    },
    "executionInfo": {
     "elapsed": 25,
     "status": "ok",
     "timestamp": 1650367712950,
     "user": {
      "displayName": "Anna Jessica Jillella",
      "userId": "09539236204514073968"
     },
     "user_tz": -480
    },
    "id": "1b7d7842",
    "outputId": "94b66f9f-65a4-4879-bd3b-1a7140bdc755"
   },
   "outputs": [
    {
     "data": {
      "text/plain": [
       "0.9105180700000313"
      ]
     },
     "execution_count": 20,
     "metadata": {},
     "output_type": "execute_result"
    }
   ],
   "source": [
    "grid_cv.best_score_"
   ]
  },
  {
   "cell_type": "markdown",
   "id": "d4943cd6",
   "metadata": {
    "id": "d4943cd6"
   },
   "source": [
    "This time, we chose roc_auc metric which calculates the area under the ROC (receiver operating characteristic) curve. It is one of the most popular and robust evaluation metrics for unbalanced classification problems."
   ]
  },
  {
   "cell_type": "code",
   "execution_count": 21,
   "id": "9901facf",
   "metadata": {
    "colab": {
     "base_uri": "https://localhost:8080/"
    },
    "executionInfo": {
     "elapsed": 21,
     "status": "ok",
     "timestamp": 1650367712950,
     "user": {
      "displayName": "Anna Jessica Jillella",
      "userId": "09539236204514073968"
     },
     "user_tz": -480
    },
    "id": "9901facf",
    "outputId": "a373e6bd-e089-4aea-8e4f-1c821d975721"
   },
   "outputs": [
    {
     "data": {
      "text/plain": [
       "{'colsample_bytree': 0.5,\n",
       " 'gamma': 1,\n",
       " 'learning_rate': 0.05,\n",
       " 'max_depth': 7,\n",
       " 'reg_lambda': 10,\n",
       " 'scale_pos_weight': 5,\n",
       " 'subsample': 0.8}"
      ]
     },
     "execution_count": 21,
     "metadata": {},
     "output_type": "execute_result"
    }
   ],
   "source": [
    "grid_cv.best_params_"
   ]
  },
  {
   "cell_type": "markdown",
   "id": "3968e74d",
   "metadata": {
    "id": "3968e74d"
   },
   "source": [
    "As you can see, only scale_pos_weight is in the middle of its provided range. The other parameters are at the end of their ranges meaning that we have to keep exploring:"
   ]
  },
  {
   "cell_type": "code",
   "execution_count": 22,
   "id": "effbba37",
   "metadata": {
    "executionInfo": {
     "elapsed": 18,
     "status": "ok",
     "timestamp": 1650367712951,
     "user": {
      "displayName": "Anna Jessica Jillella",
      "userId": "09539236204514073968"
     },
     "user_tz": -480
    },
    "id": "effbba37"
   },
   "outputs": [],
   "source": [
    "# Insert the new fixed values to the grid\n",
    "param_grid[\"scale_pos_weight\"] = [3]\n",
    "param_grid[\"subsample\"] = [0.8]\n",
    "param_grid[\"colsample_bytree\"] = [0.5]\n",
    "\n",
    "# Give new value ranges to other params\n",
    "param_grid[\"gamma\"] = [3, 5, 7]\n",
    "param_grid[\"max_depth\"] = [9, 15, 20]\n",
    "param_grid[\"reg_lambda\"] = [10, 30, 50]\n",
    "param_grid[\"learning_rate\"] = [0.3, 0.5, 0.7, 1]"
   ]
  },
  {
   "cell_type": "markdown",
   "id": "4c582353",
   "metadata": {
    "id": "4c582353"
   },
   "source": [
    "We will fit a new GridSearch object to the data with the updated param grid and see if we got an improvement on the best score:"
   ]
  },
  {
   "cell_type": "code",
   "execution_count": 23,
   "id": "4b3ec2b7",
   "metadata": {
    "colab": {
     "base_uri": "https://localhost:8080/"
    },
    "executionInfo": {
     "elapsed": 8142,
     "status": "ok",
     "timestamp": 1650367721076,
     "user": {
      "displayName": "Anna Jessica Jillella",
      "userId": "09539236204514073968"
     },
     "user_tz": -480
    },
    "id": "4b3ec2b7",
    "outputId": "afd437a4-b2d3-4c32-d5aa-43e7164f6d59"
   },
   "outputs": [
    {
     "name": "stdout",
     "output_type": "stream",
     "text": [
      "[21:24:32] WARNING: C:/Users/Administrator/workspace/xgboost-win64_release_1.5.1/src/learner.cc:1115: Starting in XGBoost 1.3.0, the default evaluation metric used with the objective 'binary:logistic' was changed from 'error' to 'logloss'. Explicitly set eval_metric if you'd like to restore the old behavior.\n"
     ]
    },
    {
     "name": "stderr",
     "output_type": "stream",
     "text": [
      "C:\\Users\\asus\\anaconda3\\lib\\site-packages\\xgboost\\sklearn.py:1224: UserWarning: The use of label encoder in XGBClassifier is deprecated and will be removed in a future release. To remove this warning, do the following: 1) Pass option use_label_encoder=False when constructing XGBClassifier object; and 2) Encode your labels (y) as integers starting with 0, i.e. 0, 1, 2, ..., [num_class - 1].\n",
      "  warnings.warn(label_encoder_deprecation_msg, UserWarning)\n",
      "C:\\Users\\asus\\anaconda3\\lib\\site-packages\\sklearn\\preprocessing\\_label.py:98: DataConversionWarning: A column-vector y was passed when a 1d array was expected. Please change the shape of y to (n_samples, ), for example using ravel().\n",
      "  y = column_or_1d(y, warn=True)\n",
      "C:\\Users\\asus\\anaconda3\\lib\\site-packages\\sklearn\\preprocessing\\_label.py:133: DataConversionWarning: A column-vector y was passed when a 1d array was expected. Please change the shape of y to (n_samples, ), for example using ravel().\n",
      "  y = column_or_1d(y, warn=True)\n"
     ]
    }
   ],
   "source": [
    "grid_cv_2 = GridSearchCV(xgb_cl, param_grid, \n",
    "                         cv=3, scoring=\"roc_auc\", n_jobs=-1)\n",
    "\n",
    "_ = grid_cv_2.fit(X_processed, y_processed)"
   ]
  },
  {
   "cell_type": "code",
   "execution_count": 24,
   "id": "4c83a1ad",
   "metadata": {
    "colab": {
     "base_uri": "https://localhost:8080/"
    },
    "executionInfo": {
     "elapsed": 31,
     "status": "ok",
     "timestamp": 1650367721077,
     "user": {
      "displayName": "Anna Jessica Jillella",
      "userId": "09539236204514073968"
     },
     "user_tz": -480
    },
    "id": "4c83a1ad",
    "outputId": "0121d1ec-6457-420b-b536-be771f58437c"
   },
   "outputs": [
    {
     "data": {
      "text/plain": [
       "0.9057267608763139"
      ]
     },
     "execution_count": 24,
     "metadata": {},
     "output_type": "execute_result"
    }
   ],
   "source": [
    "grid_cv_2.best_score_"
   ]
  },
  {
   "cell_type": "markdown",
   "id": "0024c5cd",
   "metadata": {
    "id": "0024c5cd"
   },
   "source": [
    "Looks like the second round of tuning resulted in a slight decrease in performance. We have got no choice but to stick with the first set of parameters which were:"
   ]
  },
  {
   "cell_type": "code",
   "execution_count": 25,
   "id": "982ae6c0",
   "metadata": {
    "colab": {
     "base_uri": "https://localhost:8080/"
    },
    "executionInfo": {
     "elapsed": 26,
     "status": "ok",
     "timestamp": 1650367721077,
     "user": {
      "displayName": "Anna Jessica Jillella",
      "userId": "09539236204514073968"
     },
     "user_tz": -480
    },
    "id": "982ae6c0",
    "outputId": "77f977a7-208c-45f9-8b98-475784970080"
   },
   "outputs": [
    {
     "data": {
      "text/plain": [
       "{'colsample_bytree': 0.5,\n",
       " 'gamma': 1,\n",
       " 'learning_rate': 0.05,\n",
       " 'max_depth': 7,\n",
       " 'reg_lambda': 10,\n",
       " 'scale_pos_weight': 5,\n",
       " 'subsample': 0.8}"
      ]
     },
     "execution_count": 25,
     "metadata": {},
     "output_type": "execute_result"
    }
   ],
   "source": [
    "grid_cv.best_params_"
   ]
  },
  {
   "cell_type": "markdown",
   "id": "c5ddbb44",
   "metadata": {
    "id": "c5ddbb44"
   },
   "source": [
    "Let’s create a final classifier with the above parameters:"
   ]
  },
  {
   "cell_type": "code",
   "execution_count": 26,
   "id": "f30a7b23",
   "metadata": {
    "executionInfo": {
     "elapsed": 23,
     "status": "ok",
     "timestamp": 1650367721078,
     "user": {
      "displayName": "Anna Jessica Jillella",
      "userId": "09539236204514073968"
     },
     "user_tz": -480
    },
    "id": "f30a7b23"
   },
   "outputs": [],
   "source": [
    "final_cl = xgb.XGBClassifier(\n",
    "    **grid_cv.best_params_,\n",
    "    objective=\"binary:logistic\"\n",
    ")"
   ]
  },
  {
   "cell_type": "code",
   "execution_count": 27,
   "id": "92a93150",
   "metadata": {
    "colab": {
     "base_uri": "https://localhost:8080/"
    },
    "executionInfo": {
     "elapsed": 23,
     "status": "ok",
     "timestamp": 1650367721078,
     "user": {
      "displayName": "Anna Jessica Jillella",
      "userId": "09539236204514073968"
     },
     "user_tz": -480
    },
    "id": "92a93150",
    "outputId": "d838afed-5938-4257-f75b-8654e7f76e74"
   },
   "outputs": [
    {
     "name": "stdout",
     "output_type": "stream",
     "text": [
      "[21:24:32] WARNING: C:/Users/Administrator/workspace/xgboost-win64_release_1.5.1/src/learner.cc:1115: Starting in XGBoost 1.3.0, the default evaluation metric used with the objective 'binary:logistic' was changed from 'error' to 'logloss'. Explicitly set eval_metric if you'd like to restore the old behavior.\n"
     ]
    }
   ],
   "source": [
    "from sklearn.metrics import roc_auc_score\n",
    "\n",
    "_ = final_cl.fit(X_train, y_train)\n",
    "\n",
    "preds = final_cl.predict(X_test)"
   ]
  },
  {
   "cell_type": "code",
   "execution_count": 28,
   "id": "d910bc09",
   "metadata": {
    "colab": {
     "base_uri": "https://localhost:8080/",
     "height": 409
    },
    "executionInfo": {
     "elapsed": 830,
     "status": "ok",
     "timestamp": 1650367721888,
     "user": {
      "displayName": "Anna Jessica Jillella",
      "userId": "09539236204514073968"
     },
     "user_tz": -480
    },
    "id": "d910bc09",
    "outputId": "eec6e7a8-5a13-4ef2-999a-2c21ef1eb8dc"
   },
   "outputs": [
    {
     "name": "stdout",
     "output_type": "stream",
     "text": [
      "\n",
      "Accuracy for training set for XGBoost = 0.8722466960352423\n",
      "Accuracy for test set for XGBoost = 0.6973684210526315\n",
      "F1 score for test set for XGBoost:  0.7356321839080461\n",
      "\n",
      "Score:  0.6973684210526315\n"
     ]
    },
    {
     "data": {
      "text/plain": [
       "Text(0.5, 1.0, 'Test data')"
      ]
     },
     "execution_count": 28,
     "metadata": {},
     "output_type": "execute_result"
    },
    {
     "data": {
      "image/png": "[encoded data removed]",
      "text/plain": [
       "<Figure size 864x288 with 4 Axes>"
      ]
     },
     "metadata": {},
     "output_type": "display_data"
    }
   ],
   "source": [
    "#Evaluation of accuracy based on confusion matrix \n",
    "y_pred = final_cl.predict(X_test)\n",
    "y_pred_train = final_cl.predict(X_train)\n",
    "\n",
    "cm_test = confusion_matrix(y_pred, y_test)\n",
    "cm_train = confusion_matrix(y_pred_train, y_train)\n",
    "\n",
    "f1_score = metrics.f1_score(y_test, y_pred)\n",
    "\n",
    "print()\n",
    "print('Accuracy for training set for XGBoost = {}'.format((cm_train[0][0] + cm_train[1][1])/len(y_train)))\n",
    "print('Accuracy for test set for XGBoost = {}'.format((cm_test[0][0] + cm_test[1][1])/len(y_test)))\n",
    "print('F1 score for test set for XGBoost: ', f1_score)\n",
    "print()\n",
    "print(\"Score: \", accuracy_score(y_test, preds))\n",
    "\n",
    "#Plotting confusion matrices for visualisation\n",
    "from sklearn.metrics import confusion_matrix\n",
    "f, axes = plt.subplots(1, 2, figsize=(12, 4))\n",
    "a = sb.heatmap(confusion_matrix(y_pred_train, y_train),\n",
    "           annot = True, fmt=\".0f\", annot_kws={\"size\": 18}, ax = axes[0])\n",
    "b = sb.heatmap(confusion_matrix(y_pred, y_test), \n",
    "           annot = True, fmt=\".0f\", annot_kws={\"size\": 18}, ax = axes[1])\n",
    "a.set_title('Train data')\n",
    "b.set_title('Test data')"
   ]
  },
  {
   "cell_type": "markdown",
   "id": "d97a0ba6",
   "metadata": {
    "id": "d97a0ba6"
   },
   "source": [
    "### Results"
   ]
  },
  {
   "cell_type": "markdown",
   "id": "9d856650",
   "metadata": {
    "id": "9d856650"
   },
   "source": [
    "* Accuracy for training set for XGBoost = 0.8722466960352423\n",
    "* Accuracy for test set for XGBoost = 0.6973684210526315\n",
    "* Score = 0.6973684210526315\n",
    "* F1 score = 0.7356321839080461"
   ]
  },
  {
   "cell_type": "markdown",
   "id": "hU9kv2Kos6GM",
   "metadata": {
    "id": "hU9kv2Kos6GM"
   },
   "source": [
    "# Logistic Regression"
   ]
  },
  {
   "cell_type": "code",
   "execution_count": 29,
   "id": "1PTy20QbsyVG",
   "metadata": {
    "executionInfo": {
     "elapsed": 14,
     "status": "ok",
     "timestamp": 1650367721889,
     "user": {
      "displayName": "Anna Jessica Jillella",
      "userId": "09539236204514073968"
     },
     "user_tz": -480
    },
    "id": "1PTy20QbsyVG"
   },
   "outputs": [],
   "source": [
    "# for logistic regression \n",
    "import sklearn\n",
    "from sklearn.model_selection import train_test_split\n",
    "from sklearn.metrics import accuracy_score\n",
    "from sklearn.linear_model import LogisticRegression"
   ]
  },
  {
   "cell_type": "markdown",
   "id": "Q2-apKmR3vdp",
   "metadata": {
    "id": "Q2-apKmR3vdp"
   },
   "source": [
    "### Logistic regression with all variables other than DIS and NUM as predictors "
   ]
  },
  {
   "cell_type": "code",
   "execution_count": 30,
   "id": "48GOsm2X5l74",
   "metadata": {
    "colab": {
     "base_uri": "https://localhost:8080/",
     "height": 518
    },
    "executionInfo": {
     "elapsed": 990,
     "status": "ok",
     "timestamp": 1650369438619,
     "user": {
      "displayName": "Anna Jessica Jillella",
      "userId": "09539236204514073968"
     },
     "user_tz": -480
    },
    "id": "48GOsm2X5l74",
    "outputId": "804cfdec-52f0-499c-c022-fbaa5607887e"
   },
   "outputs": [
    {
     "name": "stdout",
     "output_type": "stream",
     "text": [
      "\n",
      "Accuracy for training set for Logistic regression:  0.8722466960352423\n",
      "Accuracy for test set for Logistic regression:  0.7631578947368421\n",
      "F1 score for training set for Logistic Regression:  0.8599033816425121\n",
      "F1 score for test set for Logistic Regression:  0.7272727272727272\n",
      "\n",
      "Score:  0.6336633663366337\n"
     ]
    },
    {
     "name": "stderr",
     "output_type": "stream",
     "text": [
      "C:\\Users\\asus\\anaconda3\\lib\\site-packages\\sklearn\\utils\\validation.py:993: DataConversionWarning: A column-vector y was passed when a 1d array was expected. Please change the shape of y to (n_samples, ), for example using ravel().\n",
      "  y = column_or_1d(y, warn=True)\n",
      "C:\\Users\\asus\\anaconda3\\lib\\site-packages\\sklearn\\base.py:443: UserWarning: X has feature names, but LogisticRegression was fitted without feature names\n",
      "  warnings.warn(\n"
     ]
    },
    {
     "data": {
      "text/plain": [
       "Text(0.5, 1.0, 'Test data')"
      ]
     },
     "execution_count": 30,
     "metadata": {},
     "output_type": "execute_result"
    },
    {
     "data": {
      "image/png": "[encoded data removed]",
      "text/plain": [
       "<Figure size 864x288 with 4 Axes>"
      ]
     },
     "metadata": {},
     "output_type": "display_data"
    }
   ],
   "source": [
    "# split into train and test sets with where 80% of the data is used for training \n",
    "# X_train, X_test, y_train, y_test = train_test_split(X, y, test_size = 0.2)\n",
    "\n",
    "#Logistic regressiom max_iter is set to 5000 because original value of 100 was insufficient for the model to converge \n",
    "logModel = LogisticRegression(max_iter = 5000, random_state = 1)\n",
    "logModel.fit(X_train, y_train)\n",
    "\n",
    "# Predicting the Test set results\n",
    "y_pred = logModel.predict(X_test)\n",
    "\n",
    "#Evaluation of accuracy based on confusion matrix \n",
    "from sklearn.metrics import confusion_matrix\n",
    "cm_test = confusion_matrix(y_pred, y_test)\n",
    "\n",
    "y_pred_train = logModel.predict(X_train)\n",
    "cm_train = confusion_matrix(y_pred_train, y_train)\n",
    "\n",
    "f1_score_test = metrics.f1_score(y_test, y_pred)\n",
    "f1_score_train = metrics.f1_score(y_train, y_pred_train)\n",
    "\n",
    "print()\n",
    "print('Accuracy for training set for Logistic regression: ', sklearn.metrics.accuracy_score(y_train, y_pred_train))\n",
    "print('Accuracy for test set for Logistic regression: ', sklearn.metrics.accuracy_score(y_test, y_pred))\n",
    "print('F1 score for training set for Logistic Regression: ', f1_score_train)\n",
    "print('F1 score for test set for Logistic Regression: ', f1_score_test)\n",
    "print()\n",
    "print(\"Score: \", logModel.score(X,y))\n",
    "\n",
    "\n",
    "#Plotting confusion matrices for visualisation\n",
    "from sklearn.metrics import confusion_matrix\n",
    "f, axes = plt.subplots(1, 2, figsize=(12, 4))\n",
    "a = sb.heatmap(confusion_matrix(y_pred_train, y_train),\n",
    "           annot = True, fmt=\".0f\", annot_kws={\"size\": 18}, ax = axes[0])\n",
    "b = sb.heatmap(confusion_matrix(y_pred, y_test), \n",
    "           annot = True, fmt=\".0f\", annot_kws={\"size\": 18}, ax = axes[1])\n",
    "a.set_title('Train data')\n",
    "b.set_title('Test data')\n",
    "\n",
    "\n"
   ]
  },
  {
   "cell_type": "markdown",
   "id": "0a06ec0f",
   "metadata": {
    "id": "0a06ec0f"
   },
   "source": [
    "### Results"
   ]
  },
  {
   "cell_type": "markdown",
   "id": "fNbjgD6HCN1K",
   "metadata": {
    "id": "fNbjgD6HCN1K"
   },
   "source": [
    "* Accuracy for training set for Logistic Regression = 0.8722466960352423\n",
    "* Accuracy for test set for Logistic Regression = 0.7631578947368421\n",
    "* F1 score = 0.7272727272727272\n",
    "* Score = 0.6336633663366337"
   ]
  },
  {
   "cell_type": "markdown",
   "id": "OOOEJPgy3a4C",
   "metadata": {
    "id": "OOOEJPgy3a4C"
   },
   "source": [
    "### Grid Search on logistic regression "
   ]
  },
  {
   "cell_type": "markdown",
   "id": "vw8C0B693Fik",
   "metadata": {
    "id": "vw8C0B693Fik"
   },
   "source": [
    "Next, we used grid search to see if there is a hyperparameter combination that increases the model accuracy to a value greater than the 86.1%"
   ]
  },
  {
   "cell_type": "code",
   "execution_count": 31,
   "id": "UvPwcLY8uvkQ",
   "metadata": {
    "colab": {
     "base_uri": "https://localhost:8080/"
    },
    "executionInfo": {
     "elapsed": 5280,
     "status": "ok",
     "timestamp": 1650369463345,
     "user": {
      "displayName": "Anna Jessica Jillella",
      "userId": "09539236204514073968"
     },
     "user_tz": -480
    },
    "id": "UvPwcLY8uvkQ",
    "outputId": "c7eb42d4-751c-4ff1-dd13-ccf414842b26",
    "scrolled": false
   },
   "outputs": [
    {
     "name": "stdout",
     "output_type": "stream",
     "text": [
      "Best: 0.860290 using {'C': 0.01, 'penalty': 'l2', 'solver': 'newton-cg'}\n",
      "0.836876 (0.053305) with: {'C': 100, 'penalty': 'l2', 'solver': 'newton-cg'}\n",
      "0.836876 (0.053305) with: {'C': 100, 'penalty': 'l2', 'solver': 'lbfgs'}\n",
      "0.836876 (0.053305) with: {'C': 100, 'penalty': 'l2', 'solver': 'liblinear'}\n",
      "0.836876 (0.053305) with: {'C': 100, 'penalty': 'l2', 'solver': 'saga'}\n",
      "0.836876 (0.053305) with: {'C': 100, 'penalty': 'l2', 'solver': 'sag'}\n",
      "0.000000 (0.000000) with: {'C': 100, 'penalty': 'l1', 'solver': 'newton-cg'}\n",
      "0.000000 (0.000000) with: {'C': 100, 'penalty': 'l1', 'solver': 'lbfgs'}\n",
      "0.836876 (0.053305) with: {'C': 100, 'penalty': 'l1', 'solver': 'liblinear'}\n",
      "0.836876 (0.053305) with: {'C': 100, 'penalty': 'l1', 'solver': 'saga'}\n",
      "0.000000 (0.000000) with: {'C': 100, 'penalty': 'l1', 'solver': 'sag'}\n",
      "0.836876 (0.053305) with: {'C': 100, 'penalty': 'none', 'solver': 'newton-cg'}\n",
      "0.836876 (0.053305) with: {'C': 100, 'penalty': 'none', 'solver': 'lbfgs'}\n",
      "0.000000 (0.000000) with: {'C': 100, 'penalty': 'none', 'solver': 'liblinear'}\n",
      "0.836876 (0.053305) with: {'C': 100, 'penalty': 'none', 'solver': 'saga'}\n",
      "0.836876 (0.053305) with: {'C': 100, 'penalty': 'none', 'solver': 'sag'}\n",
      "0.000000 (0.000000) with: {'C': 100, 'penalty': 'elasicnet', 'solver': 'newton-cg'}\n",
      "0.000000 (0.000000) with: {'C': 100, 'penalty': 'elasicnet', 'solver': 'lbfgs'}\n",
      "0.000000 (0.000000) with: {'C': 100, 'penalty': 'elasicnet', 'solver': 'liblinear'}\n",
      "0.000000 (0.000000) with: {'C': 100, 'penalty': 'elasicnet', 'solver': 'saga'}\n",
      "0.000000 (0.000000) with: {'C': 100, 'penalty': 'elasicnet', 'solver': 'sag'}\n",
      "0.838325 (0.053288) with: {'C': 10, 'penalty': 'l2', 'solver': 'newton-cg'}\n",
      "0.838325 (0.053288) with: {'C': 10, 'penalty': 'l2', 'solver': 'lbfgs'}\n",
      "0.838325 (0.053288) with: {'C': 10, 'penalty': 'l2', 'solver': 'liblinear'}\n",
      "0.838325 (0.053288) with: {'C': 10, 'penalty': 'l2', 'solver': 'saga'}\n",
      "0.838325 (0.053288) with: {'C': 10, 'penalty': 'l2', 'solver': 'sag'}\n",
      "0.000000 (0.000000) with: {'C': 10, 'penalty': 'l1', 'solver': 'newton-cg'}\n",
      "0.000000 (0.000000) with: {'C': 10, 'penalty': 'l1', 'solver': 'lbfgs'}\n",
      "0.838325 (0.053288) with: {'C': 10, 'penalty': 'l1', 'solver': 'liblinear'}\n",
      "0.838325 (0.053288) with: {'C': 10, 'penalty': 'l1', 'solver': 'saga'}\n",
      "0.000000 (0.000000) with: {'C': 10, 'penalty': 'l1', 'solver': 'sag'}\n",
      "0.836876 (0.053305) with: {'C': 10, 'penalty': 'none', 'solver': 'newton-cg'}\n",
      "0.836876 (0.053305) with: {'C': 10, 'penalty': 'none', 'solver': 'lbfgs'}\n",
      "0.000000 (0.000000) with: {'C': 10, 'penalty': 'none', 'solver': 'liblinear'}\n",
      "0.836876 (0.053305) with: {'C': 10, 'penalty': 'none', 'solver': 'saga'}\n",
      "0.836876 (0.053305) with: {'C': 10, 'penalty': 'none', 'solver': 'sag'}\n",
      "0.000000 (0.000000) with: {'C': 10, 'penalty': 'elasicnet', 'solver': 'newton-cg'}\n",
      "0.000000 (0.000000) with: {'C': 10, 'penalty': 'elasicnet', 'solver': 'lbfgs'}\n",
      "0.000000 (0.000000) with: {'C': 10, 'penalty': 'elasicnet', 'solver': 'liblinear'}\n",
      "0.000000 (0.000000) with: {'C': 10, 'penalty': 'elasicnet', 'solver': 'saga'}\n",
      "0.000000 (0.000000) with: {'C': 10, 'penalty': 'elasicnet', 'solver': 'sag'}\n",
      "0.838325 (0.053876) with: {'C': 1.0, 'penalty': 'l2', 'solver': 'newton-cg'}\n",
      "0.838325 (0.053876) with: {'C': 1.0, 'penalty': 'l2', 'solver': 'lbfgs'}\n",
      "0.839807 (0.051208) with: {'C': 1.0, 'penalty': 'l2', 'solver': 'liblinear'}\n",
      "0.838325 (0.053876) with: {'C': 1.0, 'penalty': 'l2', 'solver': 'saga'}\n",
      "0.838325 (0.053876) with: {'C': 1.0, 'penalty': 'l2', 'solver': 'sag'}\n",
      "0.000000 (0.000000) with: {'C': 1.0, 'penalty': 'l1', 'solver': 'newton-cg'}\n",
      "0.000000 (0.000000) with: {'C': 1.0, 'penalty': 'l1', 'solver': 'lbfgs'}\n",
      "0.841353 (0.047490) with: {'C': 1.0, 'penalty': 'l1', 'solver': 'liblinear'}\n",
      "0.839871 (0.049743) with: {'C': 1.0, 'penalty': 'l1', 'solver': 'saga'}\n",
      "0.000000 (0.000000) with: {'C': 1.0, 'penalty': 'l1', 'solver': 'sag'}\n",
      "0.836876 (0.053305) with: {'C': 1.0, 'penalty': 'none', 'solver': 'newton-cg'}\n",
      "0.836876 (0.053305) with: {'C': 1.0, 'penalty': 'none', 'solver': 'lbfgs'}\n",
      "0.000000 (0.000000) with: {'C': 1.0, 'penalty': 'none', 'solver': 'liblinear'}\n",
      "0.836876 (0.053305) with: {'C': 1.0, 'penalty': 'none', 'solver': 'saga'}\n",
      "0.836876 (0.053305) with: {'C': 1.0, 'penalty': 'none', 'solver': 'sag'}\n",
      "0.000000 (0.000000) with: {'C': 1.0, 'penalty': 'elasicnet', 'solver': 'newton-cg'}\n",
      "0.000000 (0.000000) with: {'C': 1.0, 'penalty': 'elasicnet', 'solver': 'lbfgs'}\n",
      "0.000000 (0.000000) with: {'C': 1.0, 'penalty': 'elasicnet', 'solver': 'liblinear'}\n",
      "0.000000 (0.000000) with: {'C': 1.0, 'penalty': 'elasicnet', 'solver': 'saga'}\n",
      "0.000000 (0.000000) with: {'C': 1.0, 'penalty': 'elasicnet', 'solver': 'sag'}\n",
      "0.842802 (0.051282) with: {'C': 0.1, 'penalty': 'l2', 'solver': 'newton-cg'}\n",
      "0.842802 (0.051282) with: {'C': 0.1, 'penalty': 'l2', 'solver': 'lbfgs'}\n",
      "0.844283 (0.049650) with: {'C': 0.1, 'penalty': 'l2', 'solver': 'liblinear'}\n",
      "0.842802 (0.051282) with: {'C': 0.1, 'penalty': 'l2', 'solver': 'saga'}\n",
      "0.842802 (0.051282) with: {'C': 0.1, 'penalty': 'l2', 'solver': 'sag'}\n",
      "0.000000 (0.000000) with: {'C': 0.1, 'penalty': 'l1', 'solver': 'newton-cg'}\n",
      "0.000000 (0.000000) with: {'C': 0.1, 'penalty': 'l1', 'solver': 'lbfgs'}\n",
      "0.836844 (0.046099) with: {'C': 0.1, 'penalty': 'l1', 'solver': 'liblinear'}\n",
      "0.838357 (0.054986) with: {'C': 0.1, 'penalty': 'l1', 'solver': 'saga'}\n",
      "0.000000 (0.000000) with: {'C': 0.1, 'penalty': 'l1', 'solver': 'sag'}\n",
      "0.836876 (0.053305) with: {'C': 0.1, 'penalty': 'none', 'solver': 'newton-cg'}\n",
      "0.836876 (0.053305) with: {'C': 0.1, 'penalty': 'none', 'solver': 'lbfgs'}\n",
      "0.000000 (0.000000) with: {'C': 0.1, 'penalty': 'none', 'solver': 'liblinear'}\n",
      "0.836876 (0.053305) with: {'C': 0.1, 'penalty': 'none', 'solver': 'saga'}\n",
      "0.836876 (0.053305) with: {'C': 0.1, 'penalty': 'none', 'solver': 'sag'}\n",
      "0.000000 (0.000000) with: {'C': 0.1, 'penalty': 'elasicnet', 'solver': 'newton-cg'}\n",
      "0.000000 (0.000000) with: {'C': 0.1, 'penalty': 'elasicnet', 'solver': 'lbfgs'}\n",
      "0.000000 (0.000000) with: {'C': 0.1, 'penalty': 'elasicnet', 'solver': 'liblinear'}\n",
      "0.000000 (0.000000) with: {'C': 0.1, 'penalty': 'elasicnet', 'solver': 'saga'}\n",
      "0.000000 (0.000000) with: {'C': 0.1, 'penalty': 'elasicnet', 'solver': 'sag'}\n",
      "0.860290 (0.057736) with: {'C': 0.01, 'penalty': 'l2', 'solver': 'newton-cg'}\n",
      "0.860290 (0.057736) with: {'C': 0.01, 'penalty': 'l2', 'solver': 'lbfgs'}\n",
      "0.855910 (0.052060) with: {'C': 0.01, 'penalty': 'l2', 'solver': 'liblinear'}\n",
      "0.860290 (0.057736) with: {'C': 0.01, 'penalty': 'l2', 'solver': 'saga'}\n",
      "0.860290 (0.057736) with: {'C': 0.01, 'penalty': 'l2', 'solver': 'sag'}\n",
      "0.000000 (0.000000) with: {'C': 0.01, 'penalty': 'l1', 'solver': 'newton-cg'}\n",
      "0.000000 (0.000000) with: {'C': 0.01, 'penalty': 'l1', 'solver': 'lbfgs'}\n",
      "0.541836 (0.008224) with: {'C': 0.01, 'penalty': 'l1', 'solver': 'liblinear'}\n",
      "0.541836 (0.008224) with: {'C': 0.01, 'penalty': 'l1', 'solver': 'saga'}\n",
      "0.000000 (0.000000) with: {'C': 0.01, 'penalty': 'l1', 'solver': 'sag'}\n",
      "0.836876 (0.053305) with: {'C': 0.01, 'penalty': 'none', 'solver': 'newton-cg'}\n",
      "0.836876 (0.053305) with: {'C': 0.01, 'penalty': 'none', 'solver': 'lbfgs'}\n",
      "0.000000 (0.000000) with: {'C': 0.01, 'penalty': 'none', 'solver': 'liblinear'}\n",
      "0.836876 (0.053305) with: {'C': 0.01, 'penalty': 'none', 'solver': 'saga'}\n",
      "0.836876 (0.053305) with: {'C': 0.01, 'penalty': 'none', 'solver': 'sag'}\n",
      "0.000000 (0.000000) with: {'C': 0.01, 'penalty': 'elasicnet', 'solver': 'newton-cg'}\n",
      "0.000000 (0.000000) with: {'C': 0.01, 'penalty': 'elasicnet', 'solver': 'lbfgs'}\n",
      "0.000000 (0.000000) with: {'C': 0.01, 'penalty': 'elasicnet', 'solver': 'liblinear'}\n",
      "0.000000 (0.000000) with: {'C': 0.01, 'penalty': 'elasicnet', 'solver': 'saga'}\n",
      "0.000000 (0.000000) with: {'C': 0.01, 'penalty': 'elasicnet', 'solver': 'sag'}\n"
     ]
    },
    {
     "name": "stderr",
     "output_type": "stream",
     "text": [
      "C:\\Users\\asus\\anaconda3\\lib\\site-packages\\sklearn\\model_selection\\_validation.py:372: FitFailedWarning: \n",
      "675 fits failed out of a total of 1500.\n",
      "The score on these train-test partitions for these parameters will be set to 0.\n",
      "If these failures are not expected, you can try to debug them by setting error_score='raise'.\n",
      "\n",
      "Below are more details about the failures:\n",
      "--------------------------------------------------------------------------------\n",
      "75 fits failed with the following error:\n",
      "Traceback (most recent call last):\n",
      "  File \"C:\\Users\\asus\\anaconda3\\lib\\site-packages\\sklearn\\model_selection\\_validation.py\", line 680, in _fit_and_score\n",
      "    estimator.fit(X_train, y_train, **fit_params)\n",
      "  File \"C:\\Users\\asus\\anaconda3\\lib\\site-packages\\sklearn\\linear_model\\_logistic.py\", line 1461, in fit\n",
      "    solver = _check_solver(self.solver, self.penalty, self.dual)\n",
      "  File \"C:\\Users\\asus\\anaconda3\\lib\\site-packages\\sklearn\\linear_model\\_logistic.py\", line 447, in _check_solver\n",
      "    raise ValueError(\n",
      "ValueError: Solver newton-cg supports only 'l2' or 'none' penalties, got l1 penalty.\n",
      "\n",
      "--------------------------------------------------------------------------------\n",
      "75 fits failed with the following error:\n",
      "Traceback (most recent call last):\n",
      "  File \"C:\\Users\\asus\\anaconda3\\lib\\site-packages\\sklearn\\model_selection\\_validation.py\", line 680, in _fit_and_score\n",
      "    estimator.fit(X_train, y_train, **fit_params)\n",
      "  File \"C:\\Users\\asus\\anaconda3\\lib\\site-packages\\sklearn\\linear_model\\_logistic.py\", line 1461, in fit\n",
      "    solver = _check_solver(self.solver, self.penalty, self.dual)\n",
      "  File \"C:\\Users\\asus\\anaconda3\\lib\\site-packages\\sklearn\\linear_model\\_logistic.py\", line 447, in _check_solver\n",
      "    raise ValueError(\n",
      "ValueError: Solver lbfgs supports only 'l2' or 'none' penalties, got l1 penalty.\n",
      "\n",
      "--------------------------------------------------------------------------------\n",
      "75 fits failed with the following error:\n",
      "Traceback (most recent call last):\n",
      "  File \"C:\\Users\\asus\\anaconda3\\lib\\site-packages\\sklearn\\model_selection\\_validation.py\", line 680, in _fit_and_score\n",
      "    estimator.fit(X_train, y_train, **fit_params)\n",
      "  File \"C:\\Users\\asus\\anaconda3\\lib\\site-packages\\sklearn\\linear_model\\_logistic.py\", line 1461, in fit\n",
      "    solver = _check_solver(self.solver, self.penalty, self.dual)\n",
      "  File \"C:\\Users\\asus\\anaconda3\\lib\\site-packages\\sklearn\\linear_model\\_logistic.py\", line 447, in _check_solver\n",
      "    raise ValueError(\n",
      "ValueError: Solver sag supports only 'l2' or 'none' penalties, got l1 penalty.\n",
      "\n",
      "--------------------------------------------------------------------------------\n",
      "75 fits failed with the following error:\n",
      "Traceback (most recent call last):\n",
      "  File \"C:\\Users\\asus\\anaconda3\\lib\\site-packages\\sklearn\\model_selection\\_validation.py\", line 680, in _fit_and_score\n",
      "    estimator.fit(X_train, y_train, **fit_params)\n",
      "  File \"C:\\Users\\asus\\anaconda3\\lib\\site-packages\\sklearn\\linear_model\\_logistic.py\", line 1461, in fit\n",
      "    solver = _check_solver(self.solver, self.penalty, self.dual)\n",
      "  File \"C:\\Users\\asus\\anaconda3\\lib\\site-packages\\sklearn\\linear_model\\_logistic.py\", line 464, in _check_solver\n",
      "    raise ValueError(\"penalty='none' is not supported for the liblinear solver\")\n",
      "ValueError: penalty='none' is not supported for the liblinear solver\n",
      "\n",
      "--------------------------------------------------------------------------------\n",
      "375 fits failed with the following error:\n",
      "Traceback (most recent call last):\n",
      "  File \"C:\\Users\\asus\\anaconda3\\lib\\site-packages\\sklearn\\model_selection\\_validation.py\", line 680, in _fit_and_score\n",
      "    estimator.fit(X_train, y_train, **fit_params)\n",
      "  File \"C:\\Users\\asus\\anaconda3\\lib\\site-packages\\sklearn\\linear_model\\_logistic.py\", line 1461, in fit\n",
      "    solver = _check_solver(self.solver, self.penalty, self.dual)\n",
      "  File \"C:\\Users\\asus\\anaconda3\\lib\\site-packages\\sklearn\\linear_model\\_logistic.py\", line 441, in _check_solver\n",
      "    raise ValueError(\n",
      "ValueError: Logistic Regression supports only penalties in ['l1', 'l2', 'elasticnet', 'none'], got elasicnet.\n",
      "\n",
      "  warnings.warn(some_fits_failed_message, FitFailedWarning)\n",
      "C:\\Users\\asus\\anaconda3\\lib\\site-packages\\sklearn\\utils\\validation.py:993: DataConversionWarning: A column-vector y was passed when a 1d array was expected. Please change the shape of y to (n_samples, ), for example using ravel().\n",
      "  y = column_or_1d(y, warn=True)\n"
     ]
    }
   ],
   "source": [
    "from sklearn.model_selection import RepeatedStratifiedKFold\n",
    "from sklearn.model_selection import GridSearchCV\n",
    "from sklearn.linear_model import LogisticRegression\n",
    "\n",
    "\n",
    "# define models and parameters\n",
    "model = LogisticRegression(max_iter = 5000) #because normal 100 max_iter generated a convergence error\n",
    "solvers = ['newton-cg', 'lbfgs', 'liblinear', 'saga', 'sag'] #all solvers \n",
    "penalty = ['l2', 'l1', 'none', 'elasicnet'] #all penalties\n",
    "c_values = [100, 10, 1.0, 0.1, 0.01] #for varying degress of regularization strengths \n",
    "\n",
    "# define grid search\n",
    "grid = dict(solver=solvers,penalty=penalty,C=c_values)\n",
    "cv = RepeatedStratifiedKFold(n_splits=5, n_repeats=3, random_state = 1) #5 splits with 3 repeats. \n",
    "\n",
    "#carry out grid search\n",
    "grid_search = GridSearchCV(estimator=model, param_grid=grid, n_jobs=-1, cv=cv, scoring='accuracy',error_score=0)\n",
    "grid_result = grid_search.fit(X_train, y_train)\n",
    "\n",
    "# summarize results\n",
    "print(\"Best: %f using %s\" % (grid_result.best_score_, grid_result.best_params_))\n",
    "means = grid_result.cv_results_['mean_test_score']\n",
    "stds = grid_result.cv_results_['std_test_score']\n",
    "params = grid_result.cv_results_['params']\n",
    "for mean, stdev, param in zip(means, stds, params):\n",
    "    print(\"%f (%f) with: %r\" % (mean, stdev, param))"
   ]
  },
  {
   "cell_type": "markdown",
   "id": "qQivfy8E_cgy",
   "metadata": {
    "id": "qQivfy8E_cgy"
   },
   "source": [
    "Best: 0.860290 using {'C': 0.01, 'penalty': 'l2', 'solver': 'newton-cg'}\n",
    "\n",
    "Best accuracy with grid search was 0.860290 using {'C': 0.01, 'penalty': 'l2', 'solver': 'newton-cg'} combination which is worse  than the training test accuracy score using default parameters which was 0.8722466.\n"
   ]
  },
  {
   "cell_type": "code",
   "execution_count": 32,
   "id": "WXFvNGW5ii3v",
   "metadata": {
    "colab": {
     "base_uri": "https://localhost:8080/",
     "height": 518
    },
    "executionInfo": {
     "elapsed": 1038,
     "status": "ok",
     "timestamp": 1650369763519,
     "user": {
      "displayName": "Anna Jessica Jillella",
      "userId": "09539236204514073968"
     },
     "user_tz": -480
    },
    "id": "WXFvNGW5ii3v",
    "outputId": "a233c302-b510-456c-ff8c-0e957e57f5d6"
   },
   "outputs": [
    {
     "name": "stderr",
     "output_type": "stream",
     "text": [
      "C:\\Users\\asus\\anaconda3\\lib\\site-packages\\sklearn\\utils\\validation.py:993: DataConversionWarning: A column-vector y was passed when a 1d array was expected. Please change the shape of y to (n_samples, ), for example using ravel().\n",
      "  y = column_or_1d(y, warn=True)\n",
      "C:\\Users\\asus\\anaconda3\\lib\\site-packages\\sklearn\\base.py:443: UserWarning: X has feature names, but LogisticRegression was fitted without feature names\n",
      "  warnings.warn(\n"
     ]
    },
    {
     "name": "stdout",
     "output_type": "stream",
     "text": [
      "\n",
      "Accuracy for training set for Logistic Regression =  0.8810572687224669\n",
      "Accuracy for test set for Logistic Regression =  0.75\n",
      "F1 score for training set for Logisitc Regression:  0.8615384615384616\n",
      "F1 score for test set for Logistic Regression:  0.6984126984126985\n",
      "\n",
      "Score:  0.6039603960396039\n"
     ]
    },
    {
     "data": {
      "text/plain": [
       "Text(0.5, 1.0, 'Test data')"
      ]
     },
     "execution_count": 32,
     "metadata": {},
     "output_type": "execute_result"
    },
    {
     "data": {
      "image/png": "[encoded data removed]",
      "text/plain": [
       "<Figure size 864x288 with 4 Axes>"
      ]
     },
     "metadata": {},
     "output_type": "display_data"
    }
   ],
   "source": [
    "#Logistic regression using the new parameters from grid search \n",
    "#Logistic regressiom max_iter is set to 5000 because default value of 100 was insufficient for the model to converge \n",
    "logModel = LogisticRegression(max_iter = 5000, C = 0.01, penalty = 'l2', solver = 'newton-cg')\n",
    "logModel.fit(X_train, y_train)\n",
    "\n",
    "# Predicting the Test set results\n",
    "y_pred = logModel.predict(X_test)\n",
    "\n",
    "#Evaluation of accuracy based on confusion matrix \n",
    "from sklearn.metrics import confusion_matrix\n",
    "cm_test = confusion_matrix(y_pred, y_test)\n",
    "\n",
    "y_pred_train = logModel.predict(X_train)\n",
    "cm_train = confusion_matrix(y_pred_train, y_train)\n",
    "\n",
    "f1_score_test = metrics.f1_score(y_test, y_pred)\n",
    "f1_score_train = metrics.f1_score(y_train, y_pred_train)\n",
    "\n",
    "print()\n",
    "print('Accuracy for training set for Logistic Regression = ', sklearn.metrics.accuracy_score(y_train, y_pred_train))\n",
    "print('Accuracy for test set for Logistic Regression = ', sklearn.metrics.accuracy_score(y_test, y_pred))\n",
    "print('F1 score for training set for Logisitc Regression: ', f1_score_train)\n",
    "print('F1 score for test set for Logistic Regression: ', f1_score_test)\n",
    "print()\n",
    "print(\"Score: \", logModel.score(X,y))\n",
    "\n",
    "#Plotting confusion matrices for visualisation\n",
    "from sklearn.metrics import confusion_matrix\n",
    "f, axes = plt.subplots(1, 2, figsize=(12, 4))\n",
    "a = sb.heatmap(confusion_matrix(y_pred_train, y_train),\n",
    "           annot = True, fmt=\".0f\", annot_kws={\"size\": 18}, ax = axes[0])\n",
    "b = sb.heatmap(confusion_matrix(y_pred, y_test), \n",
    "           annot = True, fmt=\".0f\", annot_kws={\"size\": 18}, ax = axes[1])\n",
    "a.set_title('Train data')\n",
    "b.set_title('Test data')\n"
   ]
  },
  {
   "cell_type": "markdown",
   "id": "ff03db76",
   "metadata": {
    "id": "ff03db76"
   },
   "source": [
    "# Multi-Variate Classification Tree"
   ]
  },
  {
   "cell_type": "markdown",
   "id": "df839b75",
   "metadata": {
    "id": "df839b75"
   },
   "source": [
    "## Basic Exploration"
   ]
  },
  {
   "cell_type": "markdown",
   "id": "220cfb1a",
   "metadata": {
    "id": "220cfb1a"
   },
   "source": [
    "### Exploring DIS"
   ]
  },
  {
   "cell_type": "code",
   "execution_count": 33,
   "id": "38f74857",
   "metadata": {
    "colab": {
     "base_uri": "https://localhost:8080/",
     "height": 0
    },
    "executionInfo": {
     "elapsed": 789,
     "status": "ok",
     "timestamp": 1650367728637,
     "user": {
      "displayName": "Anna Jessica Jillella",
      "userId": "09539236204514073968"
     },
     "user_tz": -480
    },
    "id": "38f74857",
    "outputId": "1edad6bd-198f-4f28-ca8b-957c94af3749"
   },
   "outputs": [
    {
     "name": "stdout",
     "output_type": "stream",
     "text": [
      "Angiographic disease status : 2\n",
      "0    164\n",
      "1    139\n",
      "Name: DIS, dtype: int64\n"
     ]
    },
    {
     "data": {
      "text/plain": [
       "<seaborn.axisgrid.FacetGrid at 0x20cc5431b20>"
      ]
     },
     "execution_count": 33,
     "metadata": {},
     "output_type": "execute_result"
    },
    {
     "data": {
      "image/png": "[encoded data removed]",
      "text/plain": [
       "<Figure size 360x360 with 1 Axes>"
      ]
     },
     "metadata": {},
     "output_type": "display_data"
    }
   ],
   "source": [
    "print(\"Angiographic disease status :\", len(heartdata[\"DIS\"].unique()))\n",
    "\n",
    "print(heartdata[\"DIS\"].value_counts())\n",
    "sb.catplot(y = \"DIS\", data = heartdata, kind = \"count\")"
   ]
  },
  {
   "cell_type": "markdown",
   "id": "2f517543",
   "metadata": {
    "id": "2f517543"
   },
   "source": [
    "### Checking the imbalance in data"
   ]
  },
  {
   "cell_type": "code",
   "execution_count": 34,
   "id": "c7b79cc4",
   "metadata": {
    "colab": {
     "base_uri": "https://localhost:8080/"
    },
    "executionInfo": {
     "elapsed": 14,
     "status": "ok",
     "timestamp": 1650367728638,
     "user": {
      "displayName": "Anna Jessica Jillella",
      "userId": "09539236204514073968"
     },
     "user_tz": -480
    },
    "id": "c7b79cc4",
    "outputId": "29054f42-5c65-4b99-dfb1-fe89e680aec5"
   },
   "outputs": [
    {
     "name": "stdout",
     "output_type": "stream",
     "text": [
      "Ratio of the presence and absence of heart disease 1:0 =  164 : 139\n"
     ]
    }
   ],
   "source": [
    "count1, count0 = heartdata.DIS.value_counts()\n",
    "print(\"Ratio of the presence and absence of heart disease 1:0 = \", count1, \":\", count0)"
   ]
  },
  {
   "cell_type": "markdown",
   "id": "f799b01b",
   "metadata": {
    "id": "f799b01b"
   },
   "source": [
    "### Classification Tree"
   ]
  },
  {
   "cell_type": "code",
   "execution_count": 35,
   "id": "f84df4d5",
   "metadata": {
    "colab": {
     "base_uri": "https://localhost:8080/"
    },
    "executionInfo": {
     "elapsed": 12,
     "status": "ok",
     "timestamp": 1650367728638,
     "user": {
      "displayName": "Anna Jessica Jillella",
      "userId": "09539236204514073968"
     },
     "user_tz": -480
    },
    "id": "f84df4d5",
    "outputId": "a68bccee-480b-4129-e528-025feeb3f797"
   },
   "outputs": [
    {
     "data": {
      "text/plain": [
       "DecisionTreeClassifier(max_depth=21)"
      ]
     },
     "execution_count": 35,
     "metadata": {},
     "output_type": "execute_result"
    }
   ],
   "source": [
    "# Importing DecisionTreeClassifier model from Scikit-Learn\n",
    "from sklearn.tree import DecisionTreeClassifier\n",
    "\n",
    "# Decision Tree using Train Data\n",
    "dectree = DecisionTreeClassifier(max_depth = 21)  # creating the decision tree object\n",
    "dectree.fit(X_train, y_train)    "
   ]
  },
  {
   "cell_type": "code",
   "execution_count": 36,
   "id": "169a2496",
   "metadata": {
    "colab": {
     "base_uri": "https://localhost:8080/",
     "height": 0
    },
    "executionInfo": {
     "elapsed": 3695,
     "status": "ok",
     "timestamp": 1650367732322,
     "user": {
      "displayName": "Anna Jessica Jillella",
      "userId": "09539236204514073968"
     },
     "user_tz": -480
    },
    "id": "169a2496",
    "outputId": "2e3d616e-9c81-4e9c-eed8-2932ebff82e3",
    "scrolled": false
   },
   "outputs": [
    {
     "data": {
      "text/plain": [
       "[Text(0.538109756097561, 0.9545454545454546, 'THAL <= -0.347\\ngini = 0.496\\nsamples = 227\\nvalue = [123, 104]\\nclass = Has heart-disease'),\n",
       " Text(0.32621951219512196, 0.8636363636363636, 'OLDPEAK <= 0.915\\ngini = 0.349\\nsamples = 129\\nvalue = [100, 29]\\nclass = Has heart-disease'),\n",
       " Text(0.23780487804878048, 0.7727272727272727, 'EXANG <= 0.369\\ngini = 0.28\\nsamples = 119\\nvalue = [99, 20]\\nclass = Has heart-disease'),\n",
       " Text(0.13414634146341464, 0.6818181818181818, 'THALCH <= -0.924\\ngini = 0.17\\nsamples = 96\\nvalue = [87, 9]\\nclass = Has heart-disease'),\n",
       " Text(0.07317073170731707, 0.5909090909090909, 'SEX <= -0.386\\ngini = 0.48\\nsamples = 10\\nvalue = [6, 4]\\nclass = Has heart-disease'),\n",
       " Text(0.04878048780487805, 0.5, 'TRESTBPS <= 0.131\\ngini = 0.245\\nsamples = 7\\nvalue = [6, 1]\\nclass = Has heart-disease'),\n",
       " Text(0.024390243902439025, 0.4090909090909091, 'gini = 0.0\\nsamples = 6\\nvalue = [6, 0]\\nclass = Has heart-disease'),\n",
       " Text(0.07317073170731707, 0.4090909090909091, 'gini = 0.0\\nsamples = 1\\nvalue = [0, 1]\\nclass = No heart-disease'),\n",
       " Text(0.0975609756097561, 0.5, 'gini = 0.0\\nsamples = 3\\nvalue = [0, 3]\\nclass = No heart-disease'),\n",
       " Text(0.1951219512195122, 0.5909090909090909, 'AGE <= 0.228\\ngini = 0.11\\nsamples = 86\\nvalue = [81, 5]\\nclass = Has heart-disease'),\n",
       " Text(0.14634146341463414, 0.5, 'TRESTBPS <= -1.291\\ngini = 0.033\\nsamples = 60\\nvalue = [59, 1]\\nclass = Has heart-disease'),\n",
       " Text(0.12195121951219512, 0.4090909090909091, 'SEX <= -0.386\\ngini = 0.278\\nsamples = 6\\nvalue = [5, 1]\\nclass = Has heart-disease'),\n",
       " Text(0.0975609756097561, 0.3181818181818182, 'gini = 0.0\\nsamples = 5\\nvalue = [5, 0]\\nclass = Has heart-disease'),\n",
       " Text(0.14634146341463414, 0.3181818181818182, 'gini = 0.0\\nsamples = 1\\nvalue = [0, 1]\\nclass = No heart-disease'),\n",
       " Text(0.17073170731707318, 0.4090909090909091, 'gini = 0.0\\nsamples = 54\\nvalue = [54, 0]\\nclass = Has heart-disease'),\n",
       " Text(0.24390243902439024, 0.5, 'OLDPEAK <= 0.57\\ngini = 0.26\\nsamples = 26\\nvalue = [22, 4]\\nclass = Has heart-disease'),\n",
       " Text(0.21951219512195122, 0.4090909090909091, 'THALCH <= 0.608\\ngini = 0.211\\nsamples = 25\\nvalue = [22, 3]\\nclass = Has heart-disease'),\n",
       " Text(0.1951219512195122, 0.3181818181818182, 'gini = 0.0\\nsamples = 14\\nvalue = [14, 0]\\nclass = Has heart-disease'),\n",
       " Text(0.24390243902439024, 0.3181818181818182, 'RESTECG <= 0.01\\ngini = 0.397\\nsamples = 11\\nvalue = [8, 3]\\nclass = Has heart-disease'),\n",
       " Text(0.21951219512195122, 0.22727272727272727, 'gini = 0.0\\nsamples = 5\\nvalue = [5, 0]\\nclass = Has heart-disease'),\n",
       " Text(0.2682926829268293, 0.22727272727272727, 'CHOL <= 0.577\\ngini = 0.5\\nsamples = 6\\nvalue = [3, 3]\\nclass = Has heart-disease'),\n",
       " Text(0.24390243902439024, 0.13636363636363635, 'CA <= -0.175\\ngini = 0.375\\nsamples = 4\\nvalue = [3, 1]\\nclass = Has heart-disease'),\n",
       " Text(0.21951219512195122, 0.045454545454545456, 'gini = 0.0\\nsamples = 3\\nvalue = [3, 0]\\nclass = Has heart-disease'),\n",
       " Text(0.2682926829268293, 0.045454545454545456, 'gini = 0.0\\nsamples = 1\\nvalue = [0, 1]\\nclass = No heart-disease'),\n",
       " Text(0.2926829268292683, 0.13636363636363635, 'gini = 0.0\\nsamples = 2\\nvalue = [0, 2]\\nclass = No heart-disease'),\n",
       " Text(0.2682926829268293, 0.4090909090909091, 'gini = 0.0\\nsamples = 1\\nvalue = [0, 1]\\nclass = No heart-disease'),\n",
       " Text(0.34146341463414637, 0.6818181818181818, 'CP <= 0.356\\ngini = 0.499\\nsamples = 23\\nvalue = [12, 11]\\nclass = Has heart-disease'),\n",
       " Text(0.3170731707317073, 0.5909090909090909, 'gini = 0.0\\nsamples = 8\\nvalue = [8, 0]\\nclass = Has heart-disease'),\n",
       " Text(0.36585365853658536, 0.5909090909090909, 'CHOL <= 1.312\\ngini = 0.391\\nsamples = 15\\nvalue = [4, 11]\\nclass = No heart-disease'),\n",
       " Text(0.34146341463414637, 0.5, 'AGE <= -0.326\\ngini = 0.26\\nsamples = 13\\nvalue = [2, 11]\\nclass = No heart-disease'),\n",
       " Text(0.3170731707317073, 0.4090909090909091, 'OLDPEAK <= -0.466\\ngini = 0.444\\nsamples = 3\\nvalue = [2, 1]\\nclass = Has heart-disease'),\n",
       " Text(0.2926829268292683, 0.3181818181818182, 'gini = 0.0\\nsamples = 2\\nvalue = [2, 0]\\nclass = Has heart-disease'),\n",
       " Text(0.34146341463414637, 0.3181818181818182, 'gini = 0.0\\nsamples = 1\\nvalue = [0, 1]\\nclass = No heart-disease'),\n",
       " Text(0.36585365853658536, 0.4090909090909091, 'gini = 0.0\\nsamples = 10\\nvalue = [0, 10]\\nclass = No heart-disease'),\n",
       " Text(0.3902439024390244, 0.5, 'gini = 0.0\\nsamples = 2\\nvalue = [2, 0]\\nclass = Has heart-disease'),\n",
       " Text(0.4146341463414634, 0.7727272727272727, 'THALCH <= 1.046\\ngini = 0.18\\nsamples = 10\\nvalue = [1, 9]\\nclass = No heart-disease'),\n",
       " Text(0.3902439024390244, 0.6818181818181818, 'gini = 0.0\\nsamples = 9\\nvalue = [0, 9]\\nclass = No heart-disease'),\n",
       " Text(0.43902439024390244, 0.6818181818181818, 'gini = 0.0\\nsamples = 1\\nvalue = [1, 0]\\nclass = Has heart-disease'),\n",
       " Text(0.75, 0.8636363636363636, 'CA <= -0.175\\ngini = 0.359\\nsamples = 98\\nvalue = [23, 75]\\nclass = No heart-disease'),\n",
       " Text(0.6463414634146342, 0.7727272727272727, 'OLDPEAK <= -0.293\\ngini = 0.499\\nsamples = 40\\nvalue = [19, 21]\\nclass = No heart-disease'),\n",
       " Text(0.5365853658536586, 0.6818181818181818, 'CP <= 0.356\\ngini = 0.375\\nsamples = 20\\nvalue = [15, 5]\\nclass = Has heart-disease'),\n",
       " Text(0.4634146341463415, 0.5909090909090909, 'CHOL <= 0.557\\ngini = 0.153\\nsamples = 12\\nvalue = [11, 1]\\nclass = Has heart-disease'),\n",
       " Text(0.43902439024390244, 0.5, 'gini = 0.0\\nsamples = 10\\nvalue = [10, 0]\\nclass = Has heart-disease'),\n",
       " Text(0.4878048780487805, 0.5, 'TRESTBPS <= 1.327\\ngini = 0.5\\nsamples = 2\\nvalue = [1, 1]\\nclass = Has heart-disease'),\n",
       " Text(0.4634146341463415, 0.4090909090909091, 'gini = 0.0\\nsamples = 1\\nvalue = [1, 0]\\nclass = Has heart-disease'),\n",
       " Text(0.5121951219512195, 0.4090909090909091, 'gini = 0.0\\nsamples = 1\\nvalue = [0, 1]\\nclass = No heart-disease'),\n",
       " Text(0.6097560975609756, 0.5909090909090909, 'AGE <= -0.437\\ngini = 0.5\\nsamples = 8\\nvalue = [4, 4]\\nclass = Has heart-disease'),\n",
       " Text(0.5853658536585366, 0.5, 'RESTECG <= 0.01\\ngini = 0.32\\nsamples = 5\\nvalue = [1, 4]\\nclass = No heart-disease'),\n",
       " Text(0.5609756097560976, 0.4090909090909091, 'AGE <= -1.434\\ngini = 0.5\\nsamples = 2\\nvalue = [1, 1]\\nclass = Has heart-disease'),\n",
       " Text(0.5365853658536586, 0.3181818181818182, 'gini = 0.0\\nsamples = 1\\nvalue = [0, 1]\\nclass = No heart-disease'),\n",
       " Text(0.5853658536585366, 0.3181818181818182, 'gini = 0.0\\nsamples = 1\\nvalue = [1, 0]\\nclass = Has heart-disease'),\n",
       " Text(0.6097560975609756, 0.4090909090909091, 'gini = 0.0\\nsamples = 3\\nvalue = [0, 3]\\nclass = No heart-disease'),\n",
       " Text(0.6341463414634146, 0.5, 'gini = 0.0\\nsamples = 3\\nvalue = [3, 0]\\nclass = Has heart-disease'),\n",
       " Text(0.7560975609756098, 0.6818181818181818, 'THAL <= 0.7\\ngini = 0.32\\nsamples = 20\\nvalue = [4, 16]\\nclass = No heart-disease'),\n",
       " Text(0.7073170731707317, 0.5909090909090909, 'CHOL <= 0.528\\ngini = 0.375\\nsamples = 4\\nvalue = [3, 1]\\nclass = Has heart-disease'),\n",
       " Text(0.6829268292682927, 0.5, 'gini = 0.0\\nsamples = 3\\nvalue = [3, 0]\\nclass = Has heart-disease'),\n",
       " Text(0.7317073170731707, 0.5, 'gini = 0.0\\nsamples = 1\\nvalue = [0, 1]\\nclass = No heart-disease'),\n",
       " Text(0.8048780487804879, 0.5909090909090909, 'CHOL <= 3.672\\ngini = 0.117\\nsamples = 16\\nvalue = [1, 15]\\nclass = No heart-disease'),\n",
       " Text(0.7804878048780488, 0.5, 'gini = 0.0\\nsamples = 15\\nvalue = [0, 15]\\nclass = No heart-disease'),\n",
       " Text(0.8292682926829268, 0.5, 'gini = 0.0\\nsamples = 1\\nvalue = [1, 0]\\nclass = Has heart-disease'),\n",
       " Text(0.8536585365853658, 0.7727272727272727, 'CHOL <= -2.287\\ngini = 0.128\\nsamples = 58\\nvalue = [4, 54]\\nclass = No heart-disease'),\n",
       " Text(0.8292682926829268, 0.6818181818181818, 'gini = 0.0\\nsamples = 1\\nvalue = [1, 0]\\nclass = Has heart-disease'),\n",
       " Text(0.8780487804878049, 0.6818181818181818, 'TRESTBPS <= -1.69\\ngini = 0.1\\nsamples = 57\\nvalue = [3, 54]\\nclass = No heart-disease'),\n",
       " Text(0.8536585365853658, 0.5909090909090909, 'gini = 0.0\\nsamples = 1\\nvalue = [1, 0]\\nclass = Has heart-disease'),\n",
       " Text(0.9024390243902439, 0.5909090909090909, 'CP <= 0.356\\ngini = 0.069\\nsamples = 56\\nvalue = [2, 54]\\nclass = No heart-disease'),\n",
       " Text(0.8780487804878049, 0.5, 'TRESTBPS <= -0.722\\ngini = 0.245\\nsamples = 14\\nvalue = [2, 12]\\nclass = No heart-disease'),\n",
       " Text(0.8292682926829268, 0.4090909090909091, 'THALCH <= 0.368\\ngini = 0.5\\nsamples = 2\\nvalue = [1, 1]\\nclass = Has heart-disease'),\n",
       " Text(0.8048780487804879, 0.3181818181818182, 'gini = 0.0\\nsamples = 1\\nvalue = [1, 0]\\nclass = Has heart-disease'),\n",
       " Text(0.8536585365853658, 0.3181818181818182, 'gini = 0.0\\nsamples = 1\\nvalue = [0, 1]\\nclass = No heart-disease'),\n",
       " Text(0.926829268292683, 0.4090909090909091, 'CA <= 1.969\\ngini = 0.153\\nsamples = 12\\nvalue = [1, 11]\\nclass = No heart-disease'),\n",
       " Text(0.9024390243902439, 0.3181818181818182, 'gini = 0.0\\nsamples = 8\\nvalue = [0, 8]\\nclass = No heart-disease'),\n",
       " Text(0.9512195121951219, 0.3181818181818182, 'OLDPEAK <= 0.742\\ngini = 0.375\\nsamples = 4\\nvalue = [1, 3]\\nclass = No heart-disease'),\n",
       " Text(0.926829268292683, 0.22727272727272727, 'THAL <= 0.7\\ngini = 0.5\\nsamples = 2\\nvalue = [1, 1]\\nclass = Has heart-disease'),\n",
       " Text(0.9024390243902439, 0.13636363636363635, 'gini = 0.0\\nsamples = 1\\nvalue = [0, 1]\\nclass = No heart-disease'),\n",
       " Text(0.9512195121951219, 0.13636363636363635, 'gini = 0.0\\nsamples = 1\\nvalue = [1, 0]\\nclass = Has heart-disease'),\n",
       " Text(0.975609756097561, 0.22727272727272727, 'gini = 0.0\\nsamples = 2\\nvalue = [0, 2]\\nclass = No heart-disease'),\n",
       " Text(0.926829268292683, 0.5, 'gini = 0.0\\nsamples = 42\\nvalue = [0, 42]\\nclass = No heart-disease')]"
      ]
     },
     "execution_count": 36,
     "metadata": {},
     "output_type": "execute_result"
    },
    {
     "data": {
      "image/png": "[encoded data removed]",
      "text/plain": [
       "<Figure size 2160x1080 with 1 Axes>"
      ]
     },
     "metadata": {},
     "output_type": "display_data"
    }
   ],
   "source": [
    "# Plot the trained Decision Tree\n",
    "from sklearn.tree import plot_tree\n",
    "\n",
    "f = plt.figure(figsize=(30,15))\n",
    "plot_tree(dectree, filled=True, rounded=True, \n",
    "          feature_names=X.columns, \n",
    "          class_names=[\"Has heart-disease\",\"No heart-disease\"])"
   ]
  },
  {
   "cell_type": "markdown",
   "id": "83067b2f",
   "metadata": {
    "id": "83067b2f"
   },
   "source": [
    "### Checking the goodness of fit of the model"
   ]
  },
  {
   "cell_type": "code",
   "execution_count": 37,
   "id": "f2704428",
   "metadata": {
    "colab": {
     "base_uri": "https://localhost:8080/",
     "height": 0
    },
    "executionInfo": {
     "elapsed": 834,
     "status": "ok",
     "timestamp": 1650367733144,
     "user": {
      "displayName": "Anna Jessica Jillella",
      "userId": "09539236204514073968"
     },
     "user_tz": -480
    },
    "id": "f2704428",
    "outputId": "d5aa13bd-df1b-4ce8-acb1-b67ffaaa1b15"
   },
   "outputs": [
    {
     "name": "stdout",
     "output_type": "stream",
     "text": [
      "\n",
      "Accuracy for training set for Classification Trees = 1.0\n",
      "Accuracy for test set for Classification Trees = 0.6710526315789473\n",
      "F1 score for test set for Classification Trees:  0.6575342465753424\n",
      "\n",
      "Score:  0.45874587458745875\n"
     ]
    },
    {
     "name": "stderr",
     "output_type": "stream",
     "text": [
      "C:\\Users\\asus\\anaconda3\\lib\\site-packages\\sklearn\\base.py:443: UserWarning: X has feature names, but DecisionTreeClassifier was fitted without feature names\n",
      "  warnings.warn(\n"
     ]
    },
    {
     "data": {
      "text/plain": [
       "Text(0.5, 1.0, 'Test data')"
      ]
     },
     "execution_count": 37,
     "metadata": {},
     "output_type": "execute_result"
    },
    {
     "data": {
      "image/png": "[encoded data removed]",
      "text/plain": [
       "<Figure size 864x288 with 4 Axes>"
      ]
     },
     "metadata": {},
     "output_type": "display_data"
    }
   ],
   "source": [
    "#Evaluation of accuracy based on confusion matrix \n",
    "y_pred = dectree.predict(X_test)\n",
    "y_pred_train = dectree.predict(X_train)\n",
    "\n",
    "cm_test = confusion_matrix(y_pred, y_test)\n",
    "cm_train = confusion_matrix(y_pred_train, y_train)\n",
    "\n",
    "f1_score = metrics.f1_score(y_test, y_pred)\n",
    "\n",
    "print()\n",
    "print('Accuracy for training set for Classification Trees = {}'.format((cm_train[0][0] + cm_train[1][1])/len(y_train)))\n",
    "print('Accuracy for test set for Classification Trees = {}'.format((cm_test[0][0] + cm_test[1][1])/len(y_test)))\n",
    "print('F1 score for test set for Classification Trees: ', f1_score)\n",
    "print()\n",
    "print(\"Score: \", dectree.score(X,y))\n",
    "\n",
    "#Plotting confusion matrices for visualisation\n",
    "from sklearn.metrics import confusion_matrix\n",
    "f, axes = plt.subplots(1, 2, figsize=(12, 4))\n",
    "a = sb.heatmap(confusion_matrix(y_pred_train, y_train),\n",
    "           annot = True, fmt=\".0f\", annot_kws={\"size\": 18}, ax = axes[0])\n",
    "b = sb.heatmap(confusion_matrix(y_pred, y_test), \n",
    "           annot = True, fmt=\".0f\", annot_kws={\"size\": 18}, ax = axes[1])\n",
    "a.set_title('Train data')\n",
    "b.set_title('Test data')"
   ]
  },
  {
   "cell_type": "code",
   "execution_count": 38,
   "id": "d62c7fdb",
   "metadata": {
    "colab": {
     "base_uri": "https://localhost:8080/"
    },
    "executionInfo": {
     "elapsed": 17,
     "status": "ok",
     "timestamp": 1650367733144,
     "user": {
      "displayName": "Anna Jessica Jillella",
      "userId": "09539236204514073968"
     },
     "user_tz": -480
    },
    "id": "d62c7fdb",
    "outputId": "3c120418-d9c5-4c9c-9267-efc2bfa30913"
   },
   "outputs": [
    {
     "name": "stdout",
     "output_type": "stream",
     "text": [
      "True Positive-rate for confusion matrix of depth 21 train data set: 1.0\n",
      "False Positive-rate for confusion matrix of depth 21 train data set: 0.0\n",
      "True Negative-rate for confusion matrix of depth 21 train data set: 1.0\n",
      "False Negative-rate for confusion matrix of depth 21 train data set: 0.0\n",
      "True Positive-rate for confusion matrix of depth 21 test data set: 0.6857142857142857\n",
      "False Positive-rate for confusion matrix of depth 21 test data set: 0.34146341463414637\n",
      "True Negative-rate for confusion matrix of depth 21 test data set: 0.6585365853658537\n",
      "False Negative-rate for confusion matrix of depth 21 test data set: 0.3142857142857143\n"
     ]
    }
   ],
   "source": [
    "# Predict Legendary values corresponding to Total\n",
    "y_train_pred = dectree.predict(X_train)\n",
    "y_test_pred = dectree.predict(X_test)\n",
    "confmatrix_train_1 = confusion_matrix(y_train, y_train_pred)\n",
    "confmatrix_test_1 = confusion_matrix(y_test, y_test_pred)\n",
    "\n",
    "def measures(confusionmatrix, depth, typeofdata):\n",
    "    tn,fp,fn,tp = confusionmatrix.ravel()\n",
    "    TPR = tp / (tp+fn)\n",
    "    TNR = tn/ (tn+fp)\n",
    "    FPR = fp / (tn+fp)\n",
    "    FNR = fn / (tp+fn)\n",
    "    print(f'True Positive-rate for confusion matrix of depth {depth} {typeofdata} data set:', TPR)\n",
    "    print(f'False Positive-rate for confusion matrix of depth {depth} {typeofdata} data set:', FPR)\n",
    "    print(f'True Negative-rate for confusion matrix of depth {depth} {typeofdata} data set:', TNR)\n",
    "    print(f'False Negative-rate for confusion matrix of depth {depth} {typeofdata} data set:', FNR)\n",
    "\n",
    "measures(confmatrix_train_1, 21, 'train')\n",
    "measures(confmatrix_test_1, 21, 'test')"
   ]
  },
  {
   "cell_type": "code",
   "execution_count": 39,
   "id": "6012aab5",
   "metadata": {
    "colab": {
     "base_uri": "https://localhost:8080/",
     "height": 0
    },
    "executionInfo": {
     "elapsed": 17,
     "status": "ok",
     "timestamp": 1650367733145,
     "user": {
      "displayName": "Anna Jessica Jillella",
      "userId": "09539236204514073968"
     },
     "user_tz": -480
    },
    "id": "6012aab5",
    "outputId": "c840be60-6dca-44e7-8ed6-9baf9a4a6deb"
   },
   "outputs": [
    {
     "data": {
      "text/html": [
       "<div>\n",
       "<style scoped>\n",
       "    .dataframe tbody tr th:only-of-type {\n",
       "        vertical-align: middle;\n",
       "    }\n",
       "\n",
       "    .dataframe tbody tr th {\n",
       "        vertical-align: top;\n",
       "    }\n",
       "\n",
       "    .dataframe thead th {\n",
       "        text-align: right;\n",
       "    }\n",
       "</style>\n",
       "<table border=\"1\" class=\"dataframe\">\n",
       "  <thead>\n",
       "    <tr style=\"text-align: right;\">\n",
       "      <th></th>\n",
       "      <th>variable</th>\n",
       "      <th>importance</th>\n",
       "    </tr>\n",
       "  </thead>\n",
       "  <tbody>\n",
       "    <tr>\n",
       "      <th>0</th>\n",
       "      <td>AGE</td>\n",
       "      <td>0.054425</td>\n",
       "    </tr>\n",
       "    <tr>\n",
       "      <th>1</th>\n",
       "      <td>SEX</td>\n",
       "      <td>0.042167</td>\n",
       "    </tr>\n",
       "    <tr>\n",
       "      <th>2</th>\n",
       "      <td>CP</td>\n",
       "      <td>0.068381</td>\n",
       "    </tr>\n",
       "    <tr>\n",
       "      <th>3</th>\n",
       "      <td>TRESTBPS</td>\n",
       "      <td>0.048237</td>\n",
       "    </tr>\n",
       "    <tr>\n",
       "      <th>4</th>\n",
       "      <td>CHOL</td>\n",
       "      <td>0.088323</td>\n",
       "    </tr>\n",
       "    <tr>\n",
       "      <th>5</th>\n",
       "      <td>FBS</td>\n",
       "      <td>0.000000</td>\n",
       "    </tr>\n",
       "    <tr>\n",
       "      <th>6</th>\n",
       "      <td>RESTECG</td>\n",
       "      <td>0.017423</td>\n",
       "    </tr>\n",
       "    <tr>\n",
       "      <th>7</th>\n",
       "      <td>THALCH</td>\n",
       "      <td>0.051553</td>\n",
       "    </tr>\n",
       "    <tr>\n",
       "      <th>8</th>\n",
       "      <td>EXANG</td>\n",
       "      <td>0.048681</td>\n",
       "    </tr>\n",
       "    <tr>\n",
       "      <th>9</th>\n",
       "      <td>OLDPEAK</td>\n",
       "      <td>0.170858</td>\n",
       "    </tr>\n",
       "    <tr>\n",
       "      <th>10</th>\n",
       "      <td>SLOPE</td>\n",
       "      <td>0.000000</td>\n",
       "    </tr>\n",
       "    <tr>\n",
       "      <th>11</th>\n",
       "      <td>CA</td>\n",
       "      <td>0.085526</td>\n",
       "    </tr>\n",
       "    <tr>\n",
       "      <th>12</th>\n",
       "      <td>THAL</td>\n",
       "      <td>0.324427</td>\n",
       "    </tr>\n",
       "  </tbody>\n",
       "</table>\n",
       "</div>"
      ],
      "text/plain": [
       "    variable  importance\n",
       "0        AGE    0.054425\n",
       "1        SEX    0.042167\n",
       "2         CP    0.068381\n",
       "3   TRESTBPS    0.048237\n",
       "4       CHOL    0.088323\n",
       "5        FBS    0.000000\n",
       "6    RESTECG    0.017423\n",
       "7     THALCH    0.051553\n",
       "8      EXANG    0.048681\n",
       "9    OLDPEAK    0.170858\n",
       "10     SLOPE    0.000000\n",
       "11        CA    0.085526\n",
       "12      THAL    0.324427"
      ]
     },
     "execution_count": 39,
     "metadata": {},
     "output_type": "execute_result"
    }
   ],
   "source": [
    "#importance_DF = pd.DataFrame(dectree.feature_importances_)\n",
    "#importance_DF\n",
    "heartdata.drop(\"DIS\", axis=1, inplace=True)\n",
    "importance_DF = pd.DataFrame({'variable':heartdata.columns, 'importance':dectree.feature_importances_})\n",
    "importance_DF"
   ]
  },
  {
   "cell_type": "markdown",
   "id": "97af2aa2",
   "metadata": {
    "id": "97af2aa2"
   },
   "source": [
    "### Results"
   ]
  },
  {
   "cell_type": "markdown",
   "id": "97f8dc90",
   "metadata": {
    "id": "97f8dc90"
   },
   "source": [
    "* Accuracy for training set for Classification Trees = 1.0\n",
    "* Accuracy for test set for Classification Trees = 0.6842105263157895\n",
    "* Score = 0.45874587458745875\n",
    "* F1 score = 0.6756756756756757"
   ]
  },
  {
   "cell_type": "code",
   "execution_count": null,
   "id": "1e6d1dc4",
   "metadata": {
    "executionInfo": {
     "elapsed": 15,
     "status": "ok",
     "timestamp": 1650367733146,
     "user": {
      "displayName": "Anna Jessica Jillella",
      "userId": "09539236204514073968"
     },
     "user_tz": -480
    },
    "id": "1e6d1dc4"
   },
   "outputs": [],
   "source": []
  }
 ],
 "metadata": {
  "colab": {
   "name": "Combined kakuly.ipynb",
   "provenance": []
  },
  "kernelspec": {
   "display_name": "Python 3 (ipykernel)",
   "language": "python",
   "name": "python3"
  },
  "language_info": {
   "codemirror_mode": {
    "name": "ipython",
    "version": 3
   },
   "file_extension": ".py",
   "mimetype": "text/x-python",
   "name": "python",
   "nbconvert_exporter": "python",
   "pygments_lexer": "ipython3",
   "version": "3.9.7"
  }
 },
 "nbformat": 4,
 "nbformat_minor": 5
}
